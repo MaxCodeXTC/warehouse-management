{
 "cells": [
  {
   "cell_type": "code",
   "execution_count": 30,
   "metadata": {
    "colab": {},
    "colab_type": "code",
    "id": "im6yZTGBb0ES"
   },
   "outputs": [],
   "source": [
    "# univariate lstm example\n",
    "import numpy as np\n",
    "import pandas as pd\n",
    "from tensorflow.keras.models import Sequential\n",
    "from tensorflow.keras.layers import LSTM\n",
    "from tensorflow.keras.layers import Dense\n",
    "from tensorflow.keras.layers import Flatten\n",
    "from tensorflow.keras.layers import Flatten\n",
    "from tensorflow.keras.layers import Flatten\n",
    "from tensorflow.keras.layers import ConvLSTM2D\n",
    "from tensorflow.keras import optimizers"
   ]
  },
  {
   "cell_type": "code",
   "execution_count": 34,
   "metadata": {
    "colab": {},
    "colab_type": "code",
    "id": "dbEzExlDb0El"
   },
   "outputs": [],
   "source": [
    "df = pd.read_csv(\"pc_1770.csv\")"
   ]
  },
  {
   "cell_type": "code",
   "execution_count": 35,
   "metadata": {},
   "outputs": [],
   "source": [
    "df = df['Product_Demand']"
   ]
  },
  {
   "cell_type": "code",
   "execution_count": 36,
   "metadata": {},
   "outputs": [
    {
     "data": {
      "text/plain": [
       "0       2\n",
       "1       1\n",
       "2      10\n",
       "3       1\n",
       "4       2\n",
       "       ..\n",
       "473     3\n",
       "474     1\n",
       "475    11\n",
       "476     2\n",
       "477     1\n",
       "Name: Product_Demand, Length: 478, dtype: int64"
      ]
     },
     "execution_count": 36,
     "metadata": {},
     "output_type": "execute_result"
    }
   ],
   "source": [
    "df"
   ]
  },
  {
   "cell_type": "code",
   "execution_count": 37,
   "metadata": {
    "colab": {},
    "colab_type": "code",
    "id": "1PBtAnxRb0E0"
   },
   "outputs": [],
   "source": [
    "# preparing independent and dependent features\n",
    "def prepare_data(timeseries_data, n_features):\n",
    "\tX, y =[],[]\n",
    "\tfor i in range(len(timeseries_data)):\n",
    "\t\t# find the end of this pattern\n",
    "\t\tend_ix = i + n_features\n",
    "\t\t# check if we are beyond the sequence\n",
    "\t\tif end_ix > len(timeseries_data)-1:\n",
    "\t\t\tbreak\n",
    "\t\t# gather input and output parts of the pattern\n",
    "\t\tseq_x, seq_y = timeseries_data[i:end_ix], timeseries_data[end_ix]\n",
    "\t\tX.append(seq_x)\n",
    "\t\ty.append(seq_y)\n",
    "\treturn np.array(X), np.array(y)"
   ]
  },
  {
   "cell_type": "code",
   "execution_count": 38,
   "metadata": {
    "colab": {},
    "colab_type": "code",
    "id": "zhEPP7ZRb0E7"
   },
   "outputs": [],
   "source": [
    "# define input sequence\n",
    "timeseries_data = df.to_numpy()\n",
    "# choose a number of time steps\n",
    "n_steps = 100\n",
    "# split into samples\n",
    "X, y = prepare_data(timeseries_data, n_steps)"
   ]
  },
  {
   "cell_type": "code",
   "execution_count": 39,
   "metadata": {
    "colab": {
     "base_uri": "https://localhost:8080/",
     "height": 1000
    },
    "colab_type": "code",
    "id": "OK5Ns1obb0FA",
    "outputId": "138a8a87-5e16-4e3d-c1ac-1c7f2b777e6b"
   },
   "outputs": [
    {
     "name": "stdout",
     "output_type": "stream",
     "text": [
      "[[ 2  1 10 ... 30  1  2]\n",
      " [ 1 10  1 ...  1  2  5]\n",
      " [10  1  2 ...  2  5  3]\n",
      " ...\n",
      " [10  2  4 ...  5  3  1]\n",
      " [ 2  4  2 ...  3  1 11]\n",
      " [ 4  2  2 ...  1 11  2]]\n",
      "[ 5  3 10  5  1  1  4  2  2  1 10  1  2  5 10  5  1  2  2  1  2  1  1 10\n",
      "  9  1  2  5  3  1  1 10  2  2  1  1  1  1  1  4  1  1  2 10  1  2  1  3\n",
      "  2  3  1  6  2  3  1  2 10  3  2  2  3  1 10  2  1  1  2  1  2 10  6  3\n",
      "  1  1  2  1 10  2 30  9 10  3  2  1 10  4  1  2  2  1  2  1  1 10  1  1\n",
      "  2  3  5  1  1  1  1  2  1 10  2 10  1  2 10  3  2  1  2  1  1 10  1  1\n",
      " 30  2  4  1  2  2  5  2  5 10  2  1  3  1  2  1  3  1  4  5  1  2  1 10\n",
      "  2  2  1  4  2 10  1  1 10  1  1  1  1  1 10  2  1  2  2 10  2  1  1  2\n",
      "  1 24  6  2 10  2  2  1  1  5  1 20 10  4  1 10  1 10  2  5 10  2  1  2\n",
      " 10  1  1  1  1  1  1 10 10  1  1 30  1  1  8 12  2  1  1  4  2  2  1  1\n",
      "  1  1 10  1  1  6 10  3  1  5  3  1  2  1  4 10  1  1  4  1 10  2  3  1\n",
      " 10  1  1  1  1  1  3  1  2  1  5  3 12  2  3  1  1 11  2  3 20  1  2 10\n",
      "  1  5  3  1  1  1  2  5  1  3 12 10  2  4  2  2  2  1  2  1  2  4  2  1\n",
      "  2  1  2  1  1 30  2  5  1  2  2  2  2  2  1  2  1  5  2  3  4 10  1  1\n",
      "  1 10  3  1 12  2 10  1  1  1  1  2  1  7  2  2 10  4  1  1  1 10  1  1\n",
      "  1  3  1  1  2  1  1  1  2 10  2  1  2  1  1  2  1  1  1  1  1  2  1  2\n",
      " 10  5  2  1  4  1  3  1  2 10  1  1  5  3  1 11  2  1]\n"
     ]
    },
    {
     "data": {
      "text/plain": [
       "(None, None)"
      ]
     },
     "execution_count": 39,
     "metadata": {},
     "output_type": "execute_result"
    }
   ],
   "source": [
    "print(X),print(y)"
   ]
  },
  {
   "cell_type": "code",
   "execution_count": 40,
   "metadata": {
    "colab": {
     "base_uri": "https://localhost:8080/",
     "height": 34
    },
    "colab_type": "code",
    "id": "XWh-UGGyb0FH",
    "outputId": "65bb3f19-9800-4b06-d85d-bc78bf22ba28"
   },
   "outputs": [
    {
     "data": {
      "text/plain": [
       "(378, 100)"
      ]
     },
     "execution_count": 40,
     "metadata": {},
     "output_type": "execute_result"
    }
   ],
   "source": [
    "X.shape"
   ]
  },
  {
   "cell_type": "code",
   "execution_count": 41,
   "metadata": {
    "colab": {},
    "colab_type": "code",
    "id": "FtRj9KDgb0FL"
   },
   "outputs": [],
   "source": [
    "# choose a number of time steps\n",
    "n_steps = 100\n",
    "# reshape from [samples, timesteps] into [samples, timesteps, rows, columns, features]\n",
    "n_features = 1\n",
    "n_seq = 1\n",
    "n_steps = 100\n",
    "X = X.reshape((X.shape[0], n_seq, 1, n_steps, n_features))"
   ]
  },
  {
   "cell_type": "code",
   "execution_count": 42,
   "metadata": {
    "colab": {},
    "colab_type": "code",
    "id": "bBsd_Riob0FP"
   },
   "outputs": [],
   "source": [
    "# define model\n",
    "model = Sequential()\n",
    "model.add(ConvLSTM2D(filters=64, kernel_size=(1,3), activation='relu', input_shape=(n_seq, 1, n_steps, n_features)))\n",
    "model.add(Flatten())\n",
    "model.add(Dense(1, activation='relu'))\n",
    "adam = optimizers.Adam(lr=0.001)\n",
    "model.compile(optimizer=adam, loss='mse')"
   ]
  },
  {
   "cell_type": "code",
   "execution_count": 43,
   "metadata": {},
   "outputs": [
    {
     "name": "stdout",
     "output_type": "stream",
     "text": [
      "Train on 378 samples\n",
      "Epoch 1/150\n",
      "378/378 [==============================] - 3s 8ms/sample - loss: 24.2884\n",
      "Epoch 2/150\n",
      "378/378 [==============================] - 0s 1ms/sample - loss: 20.4512\n",
      "Epoch 3/150\n",
      "378/378 [==============================] - 0s 1ms/sample - loss: 19.7058\n",
      "Epoch 4/150\n",
      "378/378 [==============================] - 0s 1ms/sample - loss: 19.1332\n",
      "Epoch 5/150\n",
      "378/378 [==============================] - 1s 1ms/sample - loss: 18.7445\n",
      "Epoch 6/150\n",
      "378/378 [==============================] - 1s 1ms/sample - loss: 18.5292\n",
      "Epoch 7/150\n",
      "378/378 [==============================] - 0s 1ms/sample - loss: 17.6799\n",
      "Epoch 8/150\n",
      "378/378 [==============================] - 1s 1ms/sample - loss: 17.1124\n",
      "Epoch 9/150\n",
      "378/378 [==============================] - 1s 1ms/sample - loss: 16.6226\n",
      "Epoch 10/150\n",
      "378/378 [==============================] - 0s 1ms/sample - loss: 16.1374\n",
      "Epoch 11/150\n",
      "378/378 [==============================] - 0s 1ms/sample - loss: 15.6751\n",
      "Epoch 12/150\n",
      "378/378 [==============================] - 0s 1ms/sample - loss: 15.4381\n",
      "Epoch 13/150\n",
      "378/378 [==============================] - 1s 1ms/sample - loss: 15.1183\n",
      "Epoch 14/150\n",
      "378/378 [==============================] - 0s 1ms/sample - loss: 15.2331\n",
      "Epoch 15/150\n",
      "378/378 [==============================] - 1s 1ms/sample - loss: 14.4513\n",
      "Epoch 16/150\n",
      "378/378 [==============================] - 0s 1ms/sample - loss: 14.0280\n",
      "Epoch 17/150\n",
      "378/378 [==============================] - 0s 1ms/sample - loss: 13.8034\n",
      "Epoch 18/150\n",
      "378/378 [==============================] - 0s 1ms/sample - loss: 13.5422\n",
      "Epoch 19/150\n",
      "378/378 [==============================] - 0s 1ms/sample - loss: 12.8909\n",
      "Epoch 20/150\n",
      "378/378 [==============================] - 1s 1ms/sample - loss: 12.5196\n",
      "Epoch 21/150\n",
      "378/378 [==============================] - 1s 1ms/sample - loss: 12.0673\n",
      "Epoch 22/150\n",
      "378/378 [==============================] - 1s 1ms/sample - loss: 11.7169\n",
      "Epoch 23/150\n",
      "378/378 [==============================] - 0s 1ms/sample - loss: 11.3895\n",
      "Epoch 24/150\n",
      "378/378 [==============================] - 0s 1ms/sample - loss: 11.1675\n",
      "Epoch 25/150\n",
      "378/378 [==============================] - 0s 1ms/sample - loss: 10.6293\n",
      "Epoch 26/150\n",
      "378/378 [==============================] - 0s 1ms/sample - loss: 10.2423\n",
      "Epoch 27/150\n",
      "378/378 [==============================] - 0s 1ms/sample - loss: 9.7461\n",
      "Epoch 28/150\n",
      "378/378 [==============================] - 0s 1ms/sample - loss: 9.3496\n",
      "Epoch 29/150\n",
      "378/378 [==============================] - 0s 1ms/sample - loss: 8.8676\n",
      "Epoch 30/150\n",
      "378/378 [==============================] - 0s 1ms/sample - loss: 8.5202\n",
      "Epoch 31/150\n",
      "378/378 [==============================] - 0s 1ms/sample - loss: 8.1273\n",
      "Epoch 32/150\n",
      "378/378 [==============================] - 0s 1ms/sample - loss: 7.6306\n",
      "Epoch 33/150\n",
      "378/378 [==============================] - 0s 1ms/sample - loss: 7.3177\n",
      "Epoch 34/150\n",
      "378/378 [==============================] - 0s 1ms/sample - loss: 6.8767\n",
      "Epoch 35/150\n",
      "378/378 [==============================] - 0s 1ms/sample - loss: 6.6710\n",
      "Epoch 36/150\n",
      "378/378 [==============================] - 0s 1ms/sample - loss: 6.6012\n",
      "Epoch 37/150\n",
      "378/378 [==============================] - 0s 1ms/sample - loss: 6.2513\n",
      "Epoch 38/150\n",
      "378/378 [==============================] - 0s 1ms/sample - loss: 6.2344\n",
      "Epoch 39/150\n",
      "378/378 [==============================] - 1s 1ms/sample - loss: 5.4596\n",
      "Epoch 40/150\n",
      "378/378 [==============================] - 0s 1ms/sample - loss: 5.2311\n",
      "Epoch 41/150\n",
      "378/378 [==============================] - 0s 1ms/sample - loss: 4.9364\n",
      "Epoch 42/150\n",
      "378/378 [==============================] - 0s 1ms/sample - loss: 5.0792\n",
      "Epoch 43/150\n",
      "378/378 [==============================] - 0s 1ms/sample - loss: 4.5476\n",
      "Epoch 44/150\n",
      "378/378 [==============================] - 0s 1ms/sample - loss: 4.2133\n",
      "Epoch 45/150\n",
      "378/378 [==============================] - 0s 1ms/sample - loss: 4.0011\n",
      "Epoch 46/150\n",
      "378/378 [==============================] - 0s 1ms/sample - loss: 3.8547\n",
      "Epoch 47/150\n",
      "378/378 [==============================] - 0s 1ms/sample - loss: 3.6632\n",
      "Epoch 48/150\n",
      "378/378 [==============================] - 0s 1ms/sample - loss: 3.4811\n",
      "Epoch 49/150\n",
      "378/378 [==============================] - 0s 1ms/sample - loss: 3.3265\n",
      "Epoch 50/150\n",
      "378/378 [==============================] - 0s 1ms/sample - loss: 3.3151\n",
      "Epoch 51/150\n",
      "378/378 [==============================] - 0s 1ms/sample - loss: 3.0728\n",
      "Epoch 52/150\n",
      "378/378 [==============================] - 0s 1ms/sample - loss: 2.9749\n",
      "Epoch 53/150\n",
      "378/378 [==============================] - 1s 1ms/sample - loss: 2.9156\n",
      "Epoch 54/150\n",
      "378/378 [==============================] - 0s 1ms/sample - loss: 2.6651\n",
      "Epoch 55/150\n",
      "378/378 [==============================] - 0s 1ms/sample - loss: 2.6344\n",
      "Epoch 56/150\n",
      "378/378 [==============================] - 1s 1ms/sample - loss: 2.8307\n",
      "Epoch 57/150\n",
      "378/378 [==============================] - 0s 1ms/sample - loss: 2.4473\n",
      "Epoch 58/150\n",
      "378/378 [==============================] - 0s 1ms/sample - loss: 2.3433\n",
      "Epoch 59/150\n",
      "378/378 [==============================] - 1s 1ms/sample - loss: 2.2082\n",
      "Epoch 60/150\n",
      "378/378 [==============================] - 0s 1ms/sample - loss: 2.1919\n",
      "Epoch 61/150\n",
      "378/378 [==============================] - 1s 1ms/sample - loss: 2.0922\n",
      "Epoch 62/150\n",
      "378/378 [==============================] - 0s 1ms/sample - loss: 1.9765\n",
      "Epoch 63/150\n",
      "378/378 [==============================] - 0s 1ms/sample - loss: 1.9298\n",
      "Epoch 64/150\n",
      "378/378 [==============================] - 0s 1ms/sample - loss: 1.8675\n",
      "Epoch 65/150\n",
      "378/378 [==============================] - 0s 1ms/sample - loss: 1.8846\n",
      "Epoch 66/150\n",
      "378/378 [==============================] - 1s 1ms/sample - loss: 1.6909\n",
      "Epoch 67/150\n",
      "378/378 [==============================] - 0s 1ms/sample - loss: 1.6681\n",
      "Epoch 68/150\n",
      "378/378 [==============================] - 0s 1ms/sample - loss: 1.5921\n",
      "Epoch 69/150\n",
      "378/378 [==============================] - 0s 1ms/sample - loss: 1.5477\n",
      "Epoch 70/150\n",
      "378/378 [==============================] - 0s 1ms/sample - loss: 1.4889\n",
      "Epoch 71/150\n",
      "378/378 [==============================] - 1s 1ms/sample - loss: 1.4542\n",
      "Epoch 72/150\n",
      "378/378 [==============================] - 0s 1ms/sample - loss: 1.4214\n",
      "Epoch 73/150\n",
      "378/378 [==============================] - 0s 1ms/sample - loss: 1.3992\n",
      "Epoch 74/150\n",
      "378/378 [==============================] - 0s 1ms/sample - loss: 1.3546\n",
      "Epoch 75/150\n",
      "378/378 [==============================] - 0s 1ms/sample - loss: 1.3051\n",
      "Epoch 76/150\n",
      "378/378 [==============================] - ETA: 0s - loss: 1.387 - 0s 1ms/sample - loss: 1.3708\n",
      "Epoch 77/150\n",
      "378/378 [==============================] - 0s 1ms/sample - loss: 1.2602\n",
      "Epoch 78/150\n",
      "378/378 [==============================] - 1s 1ms/sample - loss: 1.2354\n",
      "Epoch 79/150\n",
      "378/378 [==============================] - 1s 1ms/sample - loss: 1.2288\n",
      "Epoch 80/150\n",
      "378/378 [==============================] - 1s 1ms/sample - loss: 1.2376\n",
      "Epoch 81/150\n",
      "378/378 [==============================] - 1s 1ms/sample - loss: 1.2349\n",
      "Epoch 82/150\n",
      "378/378 [==============================] - 0s 1ms/sample - loss: 1.1432\n",
      "Epoch 83/150\n",
      "378/378 [==============================] - 0s 1ms/sample - loss: 1.1318\n",
      "Epoch 84/150\n",
      "378/378 [==============================] - 0s 1ms/sample - loss: 1.1105\n",
      "Epoch 85/150\n",
      "378/378 [==============================] - 0s 1ms/sample - loss: 1.1104\n",
      "Epoch 86/150\n",
      "378/378 [==============================] - 0s 1ms/sample - loss: 1.0823\n",
      "Epoch 87/150\n",
      "378/378 [==============================] - 0s 1ms/sample - loss: 1.0706\n",
      "Epoch 88/150\n",
      "378/378 [==============================] - 1s 1ms/sample - loss: 1.0575\n",
      "Epoch 89/150\n",
      "378/378 [==============================] - 1s 1ms/sample - loss: 1.0258\n",
      "Epoch 90/150\n",
      "378/378 [==============================] - 1s 1ms/sample - loss: 1.0432\n",
      "Epoch 91/150\n",
      "378/378 [==============================] - 0s 1ms/sample - loss: 1.0177\n",
      "Epoch 92/150\n",
      "378/378 [==============================] - 0s 1ms/sample - loss: 1.0136\n",
      "Epoch 93/150\n",
      "378/378 [==============================] - 0s 1ms/sample - loss: 0.9877\n",
      "Epoch 94/150\n",
      "378/378 [==============================] - 0s 1ms/sample - loss: 1.0012\n",
      "Epoch 95/150\n",
      "378/378 [==============================] - 0s 1ms/sample - loss: 0.9773\n",
      "Epoch 96/150\n",
      "378/378 [==============================] - 0s 1ms/sample - loss: 0.9568\n",
      "Epoch 97/150\n",
      "378/378 [==============================] - 0s 1ms/sample - loss: 0.9494\n",
      "Epoch 98/150\n",
      "378/378 [==============================] - 0s 1ms/sample - loss: 0.9424\n",
      "Epoch 99/150\n",
      "378/378 [==============================] - 0s 1ms/sample - loss: 0.9372\n",
      "Epoch 100/150\n",
      "378/378 [==============================] - 0s 1ms/sample - loss: 0.9244\n",
      "Epoch 101/150\n",
      "378/378 [==============================] - 0s 1ms/sample - loss: 0.9264 0s - loss: 0\n",
      "Epoch 102/150\n",
      "378/378 [==============================] - 1s 1ms/sample - loss: 0.9246\n",
      "Epoch 103/150\n",
      "378/378 [==============================] - 0s 1ms/sample - loss: 0.9196\n",
      "Epoch 104/150\n",
      "378/378 [==============================] - 0s 1ms/sample - loss: 0.9125\n",
      "Epoch 105/150\n",
      "378/378 [==============================] - 0s 1ms/sample - loss: 0.9147\n",
      "Epoch 106/150\n",
      "378/378 [==============================] - 0s 1ms/sample - loss: 0.9107\n",
      "Epoch 107/150\n",
      "378/378 [==============================] - 0s 1ms/sample - loss: 0.9034\n",
      "Epoch 108/150\n",
      "378/378 [==============================] - 0s 1ms/sample - loss: 0.8994\n",
      "Epoch 109/150\n",
      "378/378 [==============================] - 0s 1ms/sample - loss: 0.8965\n",
      "Epoch 110/150\n",
      "378/378 [==============================] - 0s 1ms/sample - loss: 0.8905\n",
      "Epoch 111/150\n",
      "378/378 [==============================] - 0s 1ms/sample - loss: 0.8861\n",
      "Epoch 112/150\n",
      "378/378 [==============================] - 0s 1ms/sample - loss: 0.8850\n",
      "Epoch 113/150\n",
      "378/378 [==============================] - 0s 1ms/sample - loss: 0.8824\n",
      "Epoch 114/150\n",
      "378/378 [==============================] - 0s 1ms/sample - loss: 0.8814\n",
      "Epoch 115/150\n",
      "378/378 [==============================] - 0s 1ms/sample - loss: 0.8810\n",
      "Epoch 116/150\n",
      "378/378 [==============================] - 0s 1ms/sample - loss: 0.8769 0s - loss: 0.\n",
      "Epoch 117/150\n",
      "378/378 [==============================] - 0s 1ms/sample - loss: 0.8738\n",
      "Epoch 118/150\n",
      "378/378 [==============================] - 0s 1ms/sample - loss: 0.8729\n",
      "Epoch 119/150\n",
      "378/378 [==============================] - 0s 1ms/sample - loss: 0.8706\n",
      "Epoch 120/150\n",
      "378/378 [==============================] - 0s 1ms/sample - loss: 0.8705\n",
      "Epoch 121/150\n",
      "378/378 [==============================] - 0s 1ms/sample - loss: 0.8685\n",
      "Epoch 122/150\n",
      "378/378 [==============================] - 0s 1ms/sample - loss: 0.8682\n",
      "Epoch 123/150\n",
      "378/378 [==============================] - 0s 1ms/sample - loss: 0.8688\n",
      "Epoch 124/150\n",
      "378/378 [==============================] - 0s 1ms/sample - loss: 0.8676\n",
      "Epoch 125/150\n",
      "378/378 [==============================] - 0s 1ms/sample - loss: 0.8657\n",
      "Epoch 126/150\n",
      "378/378 [==============================] - 0s 1ms/sample - loss: 0.8656\n",
      "Epoch 127/150\n",
      "378/378 [==============================] - 0s 1ms/sample - loss: 0.8686\n",
      "Epoch 128/150\n",
      "378/378 [==============================] - 0s 1ms/sample - loss: 0.8678\n",
      "Epoch 129/150\n",
      "378/378 [==============================] - 0s 1ms/sample - loss: 0.8644\n",
      "Epoch 130/150\n",
      "378/378 [==============================] - 0s 1ms/sample - loss: 0.8619\n",
      "Epoch 131/150\n",
      "378/378 [==============================] - 0s 1ms/sample - loss: 0.8601\n",
      "Epoch 132/150\n",
      "378/378 [==============================] - 0s 1ms/sample - loss: 0.8591\n",
      "Epoch 133/150\n",
      "378/378 [==============================] - 0s 1ms/sample - loss: 0.8579\n",
      "Epoch 134/150\n",
      "378/378 [==============================] - 0s 1ms/sample - loss: 0.8584\n",
      "Epoch 135/150\n",
      "378/378 [==============================] - 0s 1ms/sample - loss: 0.8575\n",
      "Epoch 136/150\n",
      "378/378 [==============================] - 0s 1ms/sample - loss: 0.8578\n",
      "Epoch 137/150\n",
      "378/378 [==============================] - 0s 1ms/sample - loss: 0.8573\n",
      "Epoch 138/150\n",
      "378/378 [==============================] - 0s 1ms/sample - loss: 0.8563\n",
      "Epoch 139/150\n",
      "378/378 [==============================] - 0s 1ms/sample - loss: 0.8558\n",
      "Epoch 140/150\n",
      "378/378 [==============================] - 0s 1ms/sample - loss: 0.8553\n",
      "Epoch 141/150\n",
      "378/378 [==============================] - 1s 1ms/sample - loss: 0.8549\n",
      "Epoch 142/150\n",
      "378/378 [==============================] - 0s 1ms/sample - loss: 0.8547\n",
      "Epoch 143/150\n",
      "378/378 [==============================] - 0s 1ms/sample - loss: 0.8544\n",
      "Epoch 144/150\n",
      "378/378 [==============================] - 1s 1ms/sample - loss: 0.8541\n",
      "Epoch 145/150\n",
      "378/378 [==============================] - 0s 1ms/sample - loss: 0.8538\n",
      "Epoch 146/150\n",
      "378/378 [==============================] - 0s 1ms/sample - loss: 0.8535\n",
      "Epoch 147/150\n",
      "378/378 [==============================] - 0s 1ms/sample - loss: 0.8533\n",
      "Epoch 148/150\n",
      "378/378 [==============================] - 0s 1ms/sample - loss: 0.8532\n",
      "Epoch 149/150\n",
      "378/378 [==============================] - 0s 1ms/sample - loss: 0.8530\n",
      "Epoch 150/150\n",
      "378/378 [==============================] - 0s 1ms/sample - loss: 0.8531\n"
     ]
    },
    {
     "data": {
      "text/plain": [
       "<tensorflow.python.keras.callbacks.History at 0x1dfaff55748>"
      ]
     },
     "execution_count": 43,
     "metadata": {},
     "output_type": "execute_result"
    }
   ],
   "source": [
    "# fit model\n",
    "model.fit(X, y, epochs=150, verbose=1)"
   ]
  },
  {
   "cell_type": "code",
   "execution_count": 50,
   "metadata": {},
   "outputs": [],
   "source": [
    "model.save(\"model1770.h5\")"
   ]
  },
  {
   "cell_type": "code",
   "execution_count": 53,
   "metadata": {
    "colab": {},
    "colab_type": "code",
    "id": "qtTN9yB-fLza"
   },
   "outputs": [
    {
     "data": {
      "text/plain": [
       "(1, 100)"
      ]
     },
     "execution_count": 53,
     "metadata": {},
     "output_type": "execute_result"
    }
   ],
   "source": [
    "timeseries_data = timeseries_data.astype(float)\n",
    "x_input=timeseries_data[-100:].reshape(1,-1)\n",
    "x_input.shape"
   ]
  },
  {
   "cell_type": "code",
   "execution_count": 54,
   "metadata": {
    "colab": {},
    "colab_type": "code",
    "id": "2JjFxig9b0FS"
   },
   "outputs": [],
   "source": [
    "temp_input=list(x_input)\n",
    "temp_input=temp_input[0].tolist()"
   ]
  },
  {
   "cell_type": "code",
   "execution_count": 55,
   "metadata": {
    "colab": {
     "base_uri": "https://localhost:8080/",
     "height": 1000
    },
    "colab_type": "code",
    "id": "TLYOxxQhb0FV",
    "outputId": "60fdc19a-4bc2-4b47-df3c-f1f5b81705aa"
   },
   "outputs": [
    {
     "name": "stdout",
     "output_type": "stream",
     "text": [
      "[2.0725832]\n",
      "1 day input [ 2.         2.         1.         2.         1.         2.\n",
      "  4.         2.         1.         2.         1.         2.\n",
      "  1.         1.        30.         2.         5.         1.\n",
      "  2.         2.         2.         2.         2.         1.\n",
      "  2.         1.         5.         2.         3.         4.\n",
      " 10.         1.         1.         1.        10.         3.\n",
      "  1.        12.         2.        10.         1.         1.\n",
      "  1.         1.         2.         1.         7.         2.\n",
      "  2.        10.         4.         1.         1.         1.\n",
      " 10.         1.         1.         1.         3.         1.\n",
      "  1.         2.         1.         1.         1.         2.\n",
      " 10.         2.         1.         2.         1.         1.\n",
      "  2.         1.         1.         1.         1.         1.\n",
      "  2.         1.         2.        10.         5.         2.\n",
      "  1.         4.         1.         3.         1.         2.\n",
      " 10.         1.         1.         5.         3.         1.\n",
      " 11.         2.         1.         2.0725832]\n",
      "1 day output [[9.918931]]\n",
      "2 day input [ 2.          1.          2.          1.          2.          4.\n",
      "  2.          1.          2.          1.          2.          1.\n",
      "  1.         30.          2.          5.          1.          2.\n",
      "  2.          2.          2.          2.          1.          2.\n",
      "  1.          5.          2.          3.          4.         10.\n",
      "  1.          1.          1.         10.          3.          1.\n",
      " 12.          2.         10.          1.          1.          1.\n",
      "  1.          2.          1.          7.          2.          2.\n",
      " 10.          4.          1.          1.          1.         10.\n",
      "  1.          1.          1.          3.          1.          1.\n",
      "  2.          1.          1.          1.          2.         10.\n",
      "  2.          1.          2.          1.          1.          2.\n",
      "  1.          1.          1.          1.          1.          2.\n",
      "  1.          2.         10.          5.          2.          1.\n",
      "  4.          1.          3.          1.          2.         10.\n",
      "  1.          1.          5.          3.          1.         11.\n",
      "  2.          1.          2.0725832   9.91893101]\n",
      "2 day output [[16.519447]]\n",
      "3 day input [ 1.          2.          1.          2.          4.          2.\n",
      "  1.          2.          1.          2.          1.          1.\n",
      " 30.          2.          5.          1.          2.          2.\n",
      "  2.          2.          2.          1.          2.          1.\n",
      "  5.          2.          3.          4.         10.          1.\n",
      "  1.          1.         10.          3.          1.         12.\n",
      "  2.         10.          1.          1.          1.          1.\n",
      "  2.          1.          7.          2.          2.         10.\n",
      "  4.          1.          1.          1.         10.          1.\n",
      "  1.          1.          3.          1.          1.          2.\n",
      "  1.          1.          1.          2.         10.          2.\n",
      "  1.          2.          1.          1.          2.          1.\n",
      "  1.          1.          1.          1.          2.          1.\n",
      "  2.         10.          5.          2.          1.          4.\n",
      "  1.          3.          1.          2.         10.          1.\n",
      "  1.          5.          3.          1.         11.          2.\n",
      "  1.          2.0725832   9.91893101 16.51944733]\n",
      "3 day output [[3.8017795]]\n",
      "4 day input [ 2.          1.          2.          4.          2.          1.\n",
      "  2.          1.          2.          1.          1.         30.\n",
      "  2.          5.          1.          2.          2.          2.\n",
      "  2.          2.          1.          2.          1.          5.\n",
      "  2.          3.          4.         10.          1.          1.\n",
      "  1.         10.          3.          1.         12.          2.\n",
      " 10.          1.          1.          1.          1.          2.\n",
      "  1.          7.          2.          2.         10.          4.\n",
      "  1.          1.          1.         10.          1.          1.\n",
      "  1.          3.          1.          1.          2.          1.\n",
      "  1.          1.          2.         10.          2.          1.\n",
      "  2.          1.          1.          2.          1.          1.\n",
      "  1.          1.          1.          2.          1.          2.\n",
      " 10.          5.          2.          1.          4.          1.\n",
      "  3.          1.          2.         10.          1.          1.\n",
      "  5.          3.          1.         11.          2.          1.\n",
      "  2.0725832   9.91893101 16.51944733  3.80177951]\n",
      "4 day output [[0.]]\n",
      "5 day input [ 1.          2.          4.          2.          1.          2.\n",
      "  1.          2.          1.          1.         30.          2.\n",
      "  5.          1.          2.          2.          2.          2.\n",
      "  2.          1.          2.          1.          5.          2.\n",
      "  3.          4.         10.          1.          1.          1.\n",
      " 10.          3.          1.         12.          2.         10.\n",
      "  1.          1.          1.          1.          2.          1.\n",
      "  7.          2.          2.         10.          4.          1.\n",
      "  1.          1.         10.          1.          1.          1.\n",
      "  3.          1.          1.          2.          1.          1.\n",
      "  1.          2.         10.          2.          1.          2.\n",
      "  1.          1.          2.          1.          1.          1.\n",
      "  1.          1.          2.          1.          2.         10.\n",
      "  5.          2.          1.          4.          1.          3.\n",
      "  1.          2.         10.          1.          1.          5.\n",
      "  3.          1.         11.          2.          1.          2.0725832\n",
      "  9.91893101 16.51944733  3.80177951  0.        ]\n",
      "5 day output [[5.376458]]\n",
      "6 day input [ 2.          4.          2.          1.          2.          1.\n",
      "  2.          1.          1.         30.          2.          5.\n",
      "  1.          2.          2.          2.          2.          2.\n",
      "  1.          2.          1.          5.          2.          3.\n",
      "  4.         10.          1.          1.          1.         10.\n",
      "  3.          1.         12.          2.         10.          1.\n",
      "  1.          1.          1.          2.          1.          7.\n",
      "  2.          2.         10.          4.          1.          1.\n",
      "  1.         10.          1.          1.          1.          3.\n",
      "  1.          1.          2.          1.          1.          1.\n",
      "  2.         10.          2.          1.          2.          1.\n",
      "  1.          2.          1.          1.          1.          1.\n",
      "  1.          2.          1.          2.         10.          5.\n",
      "  2.          1.          4.          1.          3.          1.\n",
      "  2.         10.          1.          1.          5.          3.\n",
      "  1.         11.          2.          1.          2.0725832   9.91893101\n",
      " 16.51944733  3.80177951  0.          5.37645817]\n",
      "6 day output [[13.646406]]\n",
      "7 day input [ 4.          2.          1.          2.          1.          2.\n",
      "  1.          1.         30.          2.          5.          1.\n",
      "  2.          2.          2.          2.          2.          1.\n",
      "  2.          1.          5.          2.          3.          4.\n",
      " 10.          1.          1.          1.         10.          3.\n",
      "  1.         12.          2.         10.          1.          1.\n",
      "  1.          1.          2.          1.          7.          2.\n",
      "  2.         10.          4.          1.          1.          1.\n",
      " 10.          1.          1.          1.          3.          1.\n",
      "  1.          2.          1.          1.          1.          2.\n",
      " 10.          2.          1.          2.          1.          1.\n",
      "  2.          1.          1.          1.          1.          1.\n",
      "  2.          1.          2.         10.          5.          2.\n",
      "  1.          4.          1.          3.          1.          2.\n",
      " 10.          1.          1.          5.          3.          1.\n",
      " 11.          2.          1.          2.0725832   9.91893101 16.51944733\n",
      "  3.80177951  0.          5.37645817 13.64640617]\n",
      "7 day output [[0.]]\n",
      "8 day input [ 2.          1.          2.          1.          2.          1.\n",
      "  1.         30.          2.          5.          1.          2.\n",
      "  2.          2.          2.          2.          1.          2.\n",
      "  1.          5.          2.          3.          4.         10.\n",
      "  1.          1.          1.         10.          3.          1.\n",
      " 12.          2.         10.          1.          1.          1.\n",
      "  1.          2.          1.          7.          2.          2.\n",
      " 10.          4.          1.          1.          1.         10.\n",
      "  1.          1.          1.          3.          1.          1.\n",
      "  2.          1.          1.          1.          2.         10.\n",
      "  2.          1.          2.          1.          1.          2.\n",
      "  1.          1.          1.          1.          1.          2.\n",
      "  1.          2.         10.          5.          2.          1.\n",
      "  4.          1.          3.          1.          2.         10.\n",
      "  1.          1.          5.          3.          1.         11.\n",
      "  2.          1.          2.0725832   9.91893101 16.51944733  3.80177951\n",
      "  0.          5.37645817 13.64640617  0.        ]\n",
      "8 day output [[0.]]\n",
      "9 day input [ 1.          2.          1.          2.          1.          1.\n",
      " 30.          2.          5.          1.          2.          2.\n",
      "  2.          2.          2.          1.          2.          1.\n",
      "  5.          2.          3.          4.         10.          1.\n",
      "  1.          1.         10.          3.          1.         12.\n",
      "  2.         10.          1.          1.          1.          1.\n",
      "  2.          1.          7.          2.          2.         10.\n",
      "  4.          1.          1.          1.         10.          1.\n",
      "  1.          1.          3.          1.          1.          2.\n",
      "  1.          1.          1.          2.         10.          2.\n",
      "  1.          2.          1.          1.          2.          1.\n",
      "  1.          1.          1.          1.          2.          1.\n",
      "  2.         10.          5.          2.          1.          4.\n",
      "  1.          3.          1.          2.         10.          1.\n",
      "  1.          5.          3.          1.         11.          2.\n",
      "  1.          2.0725832   9.91893101 16.51944733  3.80177951  0.\n",
      "  5.37645817 13.64640617  0.          0.        ]\n",
      "9 day output [[11.408469]]\n",
      "[2.0725832, 9.918931, 16.519447, 3.8017795, 0.0, 5.376458, 13.646406, 0.0, 0.0, 11.408469]\n"
     ]
    }
   ],
   "source": [
    "# demonstrate prediction for next 10 days\n",
    "#temp_input=list(x_input)\n",
    "lst_output=[]\n",
    "i=0\n",
    "while(i<10):\n",
    "    \n",
    "    if(len(temp_input)>100):\n",
    "        x_input=np.array(temp_input[1:])\n",
    "        print(\"{} day input {}\".format(i,x_input))\n",
    "        #print(x_input)\n",
    "        x_input = x_input.reshape((1, n_seq, 1, n_steps, n_features))\n",
    "        #print(x_input)\n",
    "        yhat = model.predict(x_input, verbose=0)\n",
    "        print(\"{} day output {}\".format(i,yhat))\n",
    "        temp_input.append(yhat[0][0])\n",
    "        temp_input=temp_input[1:]\n",
    "        #print(temp_input)\n",
    "        lst_output.append(yhat[0][0])\n",
    "        i=i+1\n",
    "    else:\n",
    "        x_input = x_input.reshape((1, n_seq, 1, n_steps, n_features))\n",
    "        yhat = model.predict(x_input, verbose=0)\n",
    "        print(yhat[0])\n",
    "        temp_input.append(yhat[0][0])\n",
    "        lst_output.append(yhat[0][0])\n",
    "        i=i+1\n",
    "    \n",
    "\n",
    "print(lst_output)"
   ]
  },
  {
   "cell_type": "code",
   "execution_count": 56,
   "metadata": {
    "colab": {},
    "colab_type": "code",
    "id": "bMSEbo6vb0FY"
   },
   "outputs": [],
   "source": [
    "list2 = [1 if i == 0 else i for i in lst_output]"
   ]
  },
  {
   "cell_type": "code",
   "execution_count": 57,
   "metadata": {
    "colab": {
     "base_uri": "https://localhost:8080/",
     "height": 34
    },
    "colab_type": "code",
    "id": "hdagMPAeb0Fb",
    "outputId": "f3eed435-cdae-4941-c687-21b4ab404a5b"
   },
   "outputs": [
    {
     "name": "stdout",
     "output_type": "stream",
     "text": [
      "[2.0725832, 9.918931, 16.519447, 3.8017795, 1, 5.376458, 13.646406, 1, 1, 11.408469]\n"
     ]
    }
   ],
   "source": [
    "print(list2)"
   ]
  },
  {
   "cell_type": "code",
   "execution_count": 49,
   "metadata": {
    "colab": {},
    "colab_type": "code",
    "id": "-kQYPNfKb0Fe"
   },
   "outputs": [
    {
     "data": {
      "text/plain": [
       "[<matplotlib.lines.Line2D at 0x1dfb485a188>]"
      ]
     },
     "execution_count": 49,
     "metadata": {},
     "output_type": "execute_result"
    },
    {
     "data": {
      "image/png": "[encoded data removed]",
      "text/plain": [
       "<Figure size 432x288 with 1 Axes>"
      ]
     },
     "metadata": {
      "needs_background": "light"
     },
     "output_type": "display_data"
    }
   ],
   "source": [
    "import matplotlib.pyplot as plt\n",
    "day_new=np.arange(1,10)\n",
    "day_pred=np.arange(10,20)\n",
    "plt.plot(day_new,timeseries_data[-9:])\n",
    "plt.plot(day_pred,list2)"
   ]
  },
  {
   "cell_type": "code",
   "execution_count": null,
   "metadata": {
    "colab": {
     "base_uri": "https://localhost:8080/",
     "height": 1000
    },
    "colab_type": "code",
    "id": "cHIouzERb0Fh",
    "outputId": "9ec63211-f2ce-4195-b89a-dabb95797325"
   },
   "outputs": [],
   "source": []
  },
  {
   "cell_type": "code",
   "execution_count": null,
   "metadata": {
    "colab": {},
    "colab_type": "code",
    "id": "IGxyoLrJb0Fk"
   },
   "outputs": [],
   "source": []
  },
  {
   "cell_type": "code",
   "execution_count": null,
   "metadata": {
    "colab": {},
    "colab_type": "code",
    "id": "KQxQ7SZZb0Fm"
   },
   "outputs": [],
   "source": []
  },
  {
   "cell_type": "code",
   "execution_count": null,
   "metadata": {
    "colab": {
     "base_uri": "https://localhost:8080/",
     "height": 1000
    },
    "colab_type": "code",
    "id": "nmZx83_Gb0Fp",
    "outputId": "869536ef-6a19-40dc-a13f-25e64bae67ce"
   },
   "outputs": [],
   "source": []
  },
  {
   "cell_type": "code",
   "execution_count": null,
   "metadata": {
    "colab": {},
    "colab_type": "code",
    "id": "kMXfT876b0Fs"
   },
   "outputs": [],
   "source": []
  },
  {
   "cell_type": "code",
   "execution_count": null,
   "metadata": {
    "colab": {
     "base_uri": "https://localhost:8080/",
     "height": 34
    },
    "colab_type": "code",
    "id": "wu4CO-4Gb0Fx",
    "outputId": "63e9d698-6e21-4d14-b515-94620ba3586f"
   },
   "outputs": [],
   "source": []
  },
  {
   "cell_type": "code",
   "execution_count": null,
   "metadata": {
    "colab": {},
    "colab_type": "code",
    "id": "76k2Pxrcb0F0"
   },
   "outputs": [],
   "source": []
  },
  {
   "cell_type": "code",
   "execution_count": null,
   "metadata": {
    "colab": {},
    "colab_type": "code",
    "id": "L4a46H4efGTq"
   },
   "outputs": [],
   "source": []
  },
  {
   "cell_type": "code",
   "execution_count": null,
   "metadata": {
    "colab": {
     "base_uri": "https://localhost:8080/",
     "height": 282
    },
    "colab_type": "code",
    "id": "cnWdh1csfI2O",
    "outputId": "df472085-1615-43fa-99ca-e41c8ecfec12"
   },
   "outputs": [],
   "source": []
  },
  {
   "cell_type": "code",
   "execution_count": null,
   "metadata": {
    "colab": {},
    "colab_type": "code",
    "id": "GHMHovgp_Hoy"
   },
   "outputs": [],
   "source": []
  }
 ],
 "metadata": {
  "accelerator": "GPU",
  "colab": {
   "name": "ibm_lstm_predict.ipynb",
   "provenance": []
  },
  "kernelspec": {
   "display_name": "Python 3",
   "language": "python",
   "name": "python3"
  },
  "language_info": {
   "codemirror_mode": {
    "name": "ipython",
    "version": 3
   },
   "file_extension": ".py",
   "mimetype": "text/x-python",
   "name": "python",
   "nbconvert_exporter": "python",
   "pygments_lexer": "ipython3",
   "version": "3.7.6"
  }
 },
 "nbformat": 4,
 "nbformat_minor": 1
}
