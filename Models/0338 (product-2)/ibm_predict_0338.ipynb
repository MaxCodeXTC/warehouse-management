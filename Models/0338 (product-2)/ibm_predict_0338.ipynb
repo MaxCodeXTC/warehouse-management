{
 "cells": [
  {
   "cell_type": "code",
   "execution_count": 1,
   "metadata": {},
   "outputs": [
    {
     "name": "stdout",
     "output_type": "stream",
     "text": [
      "Model: \"sequential\"\n",
      "_________________________________________________________________\n",
      "Layer (type)                 Output Shape              Param #   \n",
      "=================================================================\n",
      "conv_lst_m2d (ConvLSTM2D)    (None, 1, 98, 64)         50176     \n",
      "_________________________________________________________________\n",
      "flatten (Flatten)            (None, 6272)              0         \n",
      "_________________________________________________________________\n",
      "dense (Dense)                (None, 1)                 6273      \n",
      "=================================================================\n",
      "Total params: 56,449\n",
      "Trainable params: 56,449\n",
      "Non-trainable params: 0\n",
      "_________________________________________________________________\n"
     ]
    }
   ],
   "source": [
    "# load and evaluate a saved model\n",
    "from numpy import loadtxt\n",
    "from tensorflow.keras.models import load_model\n",
    "import pandas as pd\n",
    "import numpy as np\n",
    "\n",
    "# load model\n",
    "model = load_model('model0338.h5')\n",
    "# summarize model.\n",
    "model.summary()\n",
    "# load dataset\n",
    "df = pd.read_csv(\"pc_0338.csv\")\n",
    "df = df['Product_Demand']\n",
    "# split into input (X) and output (Y) variables\n",
    "\n",
    "# evaluate the model\n",
    "#score = model.evaluate(X, Y, verbose=0)\n",
    "#print(\"%s: %.2f%%\" % (model.metrics_names[1], score[1]*100))"
   ]
  },
  {
   "cell_type": "code",
   "execution_count": 2,
   "metadata": {},
   "outputs": [],
   "source": [
    "# preparing independent and dependent features\n",
    "def prepare_data(timeseries_data, n_features):\n",
    "\tX, y =[],[]\n",
    "\tfor i in range(len(timeseries_data)):\n",
    "\t\t# find the end of this pattern\n",
    "\t\tend_ix = i + n_features\n",
    "\t\t# check if we are beyond the sequence\n",
    "\t\tif end_ix > len(timeseries_data)-1:\n",
    "\t\t\tbreak\n",
    "\t\t# gather input and output parts of the pattern\n",
    "\t\tseq_x, seq_y = timeseries_data[i:end_ix], timeseries_data[end_ix]\n",
    "\t\tX.append(seq_x)\n",
    "\t\ty.append(seq_y)\n",
    "\treturn np.array(X), np.array(y)"
   ]
  },
  {
   "cell_type": "code",
   "execution_count": 3,
   "metadata": {},
   "outputs": [],
   "source": [
    "# define input sequence\n",
    "timeseries_data = df.to_numpy()\n",
    "# choose a number of time steps\n",
    "n_steps = 100\n",
    "# split into samples\n",
    "X, y = prepare_data(timeseries_data, n_steps)"
   ]
  },
  {
   "cell_type": "code",
   "execution_count": 4,
   "metadata": {},
   "outputs": [],
   "source": [
    "# choose a number of time steps\n",
    "n_steps = 100\n",
    "# reshape from [samples, timesteps] into [samples, timesteps, rows, columns, features]\n",
    "n_features = 1\n",
    "n_seq = 1\n",
    "n_steps = 100\n",
    "X = X.reshape((X.shape[0], n_seq, 1, n_steps, n_features))"
   ]
  },
  {
   "cell_type": "code",
   "execution_count": 5,
   "metadata": {},
   "outputs": [
    {
     "data": {
      "text/plain": [
       "5.128526626335789"
      ]
     },
     "execution_count": 5,
     "metadata": {},
     "output_type": "execute_result"
    }
   ],
   "source": [
    "model.evaluate(X, y, verbose=0)"
   ]
  },
  {
   "cell_type": "code",
   "execution_count": 6,
   "metadata": {},
   "outputs": [],
   "source": [
    "# demonstrate prediction for next n days\n",
    "#temp_input=list(x_input)\n",
    "def logic(j):\n",
    "    \n",
    "    global timeseries_data\n",
    "    timeseries_data = timeseries_data.astype(float)\n",
    "    x_input=timeseries_data[-100:].reshape(1,-1)\n",
    "    temp_input=list(x_input)\n",
    "    temp_input=temp_input[0].tolist()\n",
    "    \n",
    "    lst_output=[]\n",
    "    i=0\n",
    "    while(i<j):\n",
    "\n",
    "        if(len(temp_input)>100):\n",
    "            x_input=np.array(temp_input[1:])\n",
    "            print(\"{} day input {}\".format(i,x_input))\n",
    "            #print(x_input)\n",
    "            x_input = x_input.reshape((1, n_seq, 1, n_steps, n_features))\n",
    "            #print(x_input)\n",
    "            yhat = model.predict(x_input, verbose=0)\n",
    "            print(\"{} day output {}\".format(i,yhat))\n",
    "            temp_input.append(yhat[0][0])\n",
    "            temp_input=temp_input[1:]\n",
    "            #print(temp_input)\n",
    "            lst_output.append(yhat[0][0])\n",
    "            i=i+1\n",
    "        else:\n",
    "            x_input = x_input.reshape((1, n_seq, 1, n_steps, n_features))\n",
    "            yhat = model.predict(x_input, verbose=0)\n",
    "            print(yhat[0])\n",
    "            temp_input.append(yhat[0][0])\n",
    "            lst_output.append(yhat[0][0])\n",
    "            i=i+1\n",
    "\n",
    "\n",
    "    #print(lst_output) \n",
    "    return lst_output"
   ]
  },
  {
   "cell_type": "code",
   "execution_count": 7,
   "metadata": {},
   "outputs": [
    {
     "name": "stdout",
     "output_type": "stream",
     "text": [
      "[0.]\n",
      "1 day input [ 24.  30.   2.  30.   2.   1.   2.  20.  96.   9.  20.   4.   2.   1.\n",
      "   2.   1.  20.  62.   3.  20.  50.   3.   2.   1.  20.   1.  10.   2.\n",
      "   4.   3.   3.   2.  20.   1.  17.  10.   2.  21.  20.  56.  50.  36.\n",
      "  30.  72.  60.  16.  11.  50.  38.   8.   2.   2.  30.  54.   2.   3.\n",
      "  20.   3.   5.  10.  10.  16.   2.  10.  30.   1.   1.   1.  19. 100.\n",
      "  16.   1.  10.   2.  30.  30.   3.   1.  10.   6.  17.  10.   3.   1.\n",
      "   3.  40.   1.   3.   2.  40.   2.  50.  60.   5.   1.   3.   1.  30.\n",
      "   2.   0.]\n",
      "1 day output [[32.362595]]\n",
      "2 day input [ 30.          2.         30.          2.          1.          2.\n",
      "  20.         96.          9.         20.          4.          2.\n",
      "   1.          2.          1.         20.         62.          3.\n",
      "  20.         50.          3.          2.          1.         20.\n",
      "   1.         10.          2.          4.          3.          3.\n",
      "   2.         20.          1.         17.         10.          2.\n",
      "  21.         20.         56.         50.         36.         30.\n",
      "  72.         60.         16.         11.         50.         38.\n",
      "   8.          2.          2.         30.         54.          2.\n",
      "   3.         20.          3.          5.         10.         10.\n",
      "  16.          2.         10.         30.          1.          1.\n",
      "   1.         19.        100.         16.          1.         10.\n",
      "   2.         30.         30.          3.          1.         10.\n",
      "   6.         17.         10.          3.          1.          3.\n",
      "  40.          1.          3.          2.         40.          2.\n",
      "  50.         60.          5.          1.          3.          1.\n",
      "  30.          2.          0.         32.3625946]\n",
      "2 day output [[42.01922]]\n",
      "3 day input [  2.          30.           2.           1.           2.\n",
      "  20.          96.           9.          20.           4.\n",
      "   2.           1.           2.           1.          20.\n",
      "  62.           3.          20.          50.           3.\n",
      "   2.           1.          20.           1.          10.\n",
      "   2.           4.           3.           3.           2.\n",
      "  20.           1.          17.          10.           2.\n",
      "  21.          20.          56.          50.          36.\n",
      "  30.          72.          60.          16.          11.\n",
      "  50.          38.           8.           2.           2.\n",
      "  30.          54.           2.           3.          20.\n",
      "   3.           5.          10.          10.          16.\n",
      "   2.          10.          30.           1.           1.\n",
      "   1.          19.         100.          16.           1.\n",
      "  10.           2.          30.          30.           3.\n",
      "   1.          10.           6.          17.          10.\n",
      "   3.           1.           3.          40.           1.\n",
      "   3.           2.          40.           2.          50.\n",
      "  60.           5.           1.           3.           1.\n",
      "  30.           2.           0.          32.3625946   42.01921844]\n",
      "3 day output [[0.]]\n",
      "4 day input [ 30.           2.           1.           2.          20.\n",
      "  96.           9.          20.           4.           2.\n",
      "   1.           2.           1.          20.          62.\n",
      "   3.          20.          50.           3.           2.\n",
      "   1.          20.           1.          10.           2.\n",
      "   4.           3.           3.           2.          20.\n",
      "   1.          17.          10.           2.          21.\n",
      "  20.          56.          50.          36.          30.\n",
      "  72.          60.          16.          11.          50.\n",
      "  38.           8.           2.           2.          30.\n",
      "  54.           2.           3.          20.           3.\n",
      "   5.          10.          10.          16.           2.\n",
      "  10.          30.           1.           1.           1.\n",
      "  19.         100.          16.           1.          10.\n",
      "   2.          30.          30.           3.           1.\n",
      "  10.           6.          17.          10.           3.\n",
      "   1.           3.          40.           1.           3.\n",
      "   2.          40.           2.          50.          60.\n",
      "   5.           1.           3.           1.          30.\n",
      "   2.           0.          32.3625946   42.01921844   0.        ]\n",
      "4 day output [[0.]]\n",
      "5 day input [  2.           1.           2.          20.          96.\n",
      "   9.          20.           4.           2.           1.\n",
      "   2.           1.          20.          62.           3.\n",
      "  20.          50.           3.           2.           1.\n",
      "  20.           1.          10.           2.           4.\n",
      "   3.           3.           2.          20.           1.\n",
      "  17.          10.           2.          21.          20.\n",
      "  56.          50.          36.          30.          72.\n",
      "  60.          16.          11.          50.          38.\n",
      "   8.           2.           2.          30.          54.\n",
      "   2.           3.          20.           3.           5.\n",
      "  10.          10.          16.           2.          10.\n",
      "  30.           1.           1.           1.          19.\n",
      " 100.          16.           1.          10.           2.\n",
      "  30.          30.           3.           1.          10.\n",
      "   6.          17.          10.           3.           1.\n",
      "   3.          40.           1.           3.           2.\n",
      "  40.           2.          50.          60.           5.\n",
      "   1.           3.           1.          30.           2.\n",
      "   0.          32.3625946   42.01921844   0.           0.        ]\n",
      "5 day output [[3.9113214]]\n"
     ]
    }
   ],
   "source": [
    "j=6  #number of days to be predicted for demand\n",
    "predictions = logic(j)\n",
    "#print(lst_output)"
   ]
  },
  {
   "cell_type": "code",
   "execution_count": 8,
   "metadata": {},
   "outputs": [
    {
     "data": {
      "text/plain": [
       "[0.0, 32.362595, 42.01922, 0.0, 0.0, 3.9113214]"
      ]
     },
     "execution_count": 8,
     "metadata": {},
     "output_type": "execute_result"
    }
   ],
   "source": [
    "predictions"
   ]
  },
  {
   "cell_type": "code",
   "execution_count": 9,
   "metadata": {},
   "outputs": [
    {
     "name": "stdout",
     "output_type": "stream",
     "text": [
      "[1, 32.362595, 42.01922, 1, 1, 3.9113214]\n"
     ]
    }
   ],
   "source": [
    "list2 = [1 if i == 0 else i for i in predictions]\n",
    "print(list2)"
   ]
  },
  {
   "cell_type": "code",
   "execution_count": 10,
   "metadata": {},
   "outputs": [],
   "source": [
    "import math\n",
    "\n",
    "class EOQ_Model:\n",
    "    def __init__(self, demand=0, order=0, holding=0, cost=0, lead=0, planned_shortage=False, shortage_cost=0):\n",
    "        self.demand = demand\n",
    "        self.order = order\n",
    "        self.holding = holding\n",
    "        self.cost = cost\n",
    "        self.lead = lead\n",
    "        self.planned_shortage = planned_shortage\n",
    "        self.shortage_cost = shortage_cost\n",
    "        \n",
    "        \n",
    "    def optimal_order_quantity(self, d=None, o=None, h=None, s=None):\n",
    "        '''\n",
    "        Calculate the order qunatity\n",
    "        \n",
    "        d = demand\n",
    "        o = ordering cost\n",
    "        h = holding cost\n",
    "        returns = reorder optimal quantity\n",
    "        \n",
    "        '''\n",
    "        if d is None:\n",
    "            d = self.demand       \n",
    "        if o is None:\n",
    "            o = self.order\n",
    "        if h is None: \n",
    "            h = self.holding\n",
    "        if s is None:\n",
    "            s = self.shortage_cost\n",
    "            \n",
    "        if self.planned_shortage:\n",
    "            return math.sqrt((2*d*o)/h) * math.sqrt(self.shortage_cost/(self.shortage_cost + self.holding))\n",
    "        else:\n",
    "            return math.sqrt((2*d*o)/h)\n",
    "        \n",
    "        \n",
    "    def reorder_point(self, d=None, l=None):\n",
    "        '''\n",
    "        Calculates the reorder point with no planned shortages.\n",
    "\n",
    "        d: total demand\n",
    "        l: lead time\n",
    "        returns: reorder point\n",
    "        '''\n",
    "        if d is None:\n",
    "            d = self.demand\n",
    "        if L is None:\n",
    "            L = self.lead\n",
    "        return d * l\n",
    "    \n",
    "        \n",
    "    def optimal_cycle_time(self, d=None, o=None, h=None, s=None):\n",
    "        '''\n",
    "        Calculates the optimal cycle time.\n",
    "        \n",
    "        d: total demand\n",
    "        o: ordering cost\n",
    "        h: holding cost\n",
    "        returns: reorder point\n",
    "        '''\n",
    "        \n",
    "        if d is None:\n",
    "            d = self.demand \n",
    "        if o is None:\n",
    "            o = self.order\n",
    "        if h is None: \n",
    "            h = self.holding\n",
    "        if s is None:\n",
    "            s = self.shortage_cost\n",
    "            \n",
    "        if self.planned_shortage:\n",
    "            return math.sqrt((2*o)/(h*d)) * math.sqrt((self.shortage_cost + self.holding)/self.shortage_cost)\n",
    "        else:\n",
    "            return math.sqrt((2*o)/(h*d))\n",
    "        \n",
    "    \n",
    "    def complete_calculations(self):\n",
    "        '''Calculates and prints the main 2 metrics: order quantity, optimal cycle time\n",
    "        \n",
    "        :returns: tuple of metrics\n",
    "        :rtype: tuple of length 2\n",
    "        '''\n",
    "        \n",
    "        q = self.optimal_order_quantity()\n",
    "        t = self.optimal_cycle_time()\n",
    "        q = round(q)\n",
    "        t = round(t, 3)\n",
    "        print(\"Optimal Order Quantity (q*): {} units\".format(q))\n",
    "        print(\"Optimal Cycle Time (t*): {}\".format(t)) "
   ]
  },
  {
   "cell_type": "code",
   "execution_count": 11,
   "metadata": {},
   "outputs": [
    {
     "name": "stdout",
     "output_type": "stream",
     "text": [
      "Optimal Order Quantity (q*): 65 units\n",
      "Optimal Cycle Time (t*): 1.543\n"
     ]
    }
   ],
   "source": [
    "l=2             #l = day on which EOQ is applied\n",
    "d=list2[l]\n",
    "o=100\n",
    "c=20\n",
    "h=2\n",
    "s=0.8\n",
    "\n",
    "eoqmodel = EOQ_Model(demand=d, order=o, cost=c, holding=h, planned_shortage=False, shortage_cost=s)\n",
    "eoqmodel.complete_calculations()"
   ]
  },
  {
   "cell_type": "code",
   "execution_count": 12,
   "metadata": {
    "scrolled": true
   },
   "outputs": [
    {
     "data": {
      "text/plain": [
       "[<matplotlib.lines.Line2D at 0x208f1734508>]"
      ]
     },
     "execution_count": 12,
     "metadata": {},
     "output_type": "execute_result"
    },
    {
     "data": {
      "image/png": "[encoded data removed]",
      "text/plain": [
       "<Figure size 432x288 with 1 Axes>"
      ]
     },
     "metadata": {
      "needs_background": "light"
     },
     "output_type": "display_data"
    }
   ],
   "source": [
    "import matplotlib.pyplot as plt\n",
    "a = j-1\n",
    "day_new=np.arange(1,j)\n",
    "day_pred=np.arange(j,j+j)\n",
    "plt.plot(day_new,timeseries_data[-a:])\n",
    "plt.plot(day_pred,list2)"
   ]
  }
 ],
 "metadata": {
  "kernelspec": {
   "display_name": "Python 3",
   "language": "python",
   "name": "python3"
  },
  "language_info": {
   "codemirror_mode": {
    "name": "ipython",
    "version": 3
   },
   "file_extension": ".py",
   "mimetype": "text/x-python",
   "name": "python",
   "nbconvert_exporter": "python",
   "pygments_lexer": "ipython3",
   "version": "3.7.6"
  }
 },
 "nbformat": 4,
 "nbformat_minor": 4
}
