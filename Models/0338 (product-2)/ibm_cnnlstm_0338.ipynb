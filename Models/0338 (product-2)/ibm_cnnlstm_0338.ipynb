{
 "cells": [
  {
   "cell_type": "code",
   "execution_count": 1,
   "metadata": {
    "colab": {},
    "colab_type": "code",
    "id": "im6yZTGBb0ES"
   },
   "outputs": [],
   "source": [
    "# univariate lstm example\n",
    "import numpy as np\n",
    "import pandas as pd\n",
    "from tensorflow.keras.models import Sequential\n",
    "from tensorflow.keras.layers import LSTM\n",
    "from tensorflow.keras.layers import Dense\n",
    "from tensorflow.keras.layers import Flatten\n",
    "from tensorflow.keras.layers import Flatten\n",
    "from tensorflow.keras.layers import Flatten\n",
    "from tensorflow.keras.layers import ConvLSTM2D\n",
    "from tensorflow.keras import optimizers"
   ]
  },
  {
   "cell_type": "code",
   "execution_count": 3,
   "metadata": {
    "colab": {},
    "colab_type": "code",
    "id": "dbEzExlDb0El"
   },
   "outputs": [],
   "source": [
    "df = pd.read_csv(\"pc_0338.csv\")"
   ]
  },
  {
   "cell_type": "code",
   "execution_count": 4,
   "metadata": {},
   "outputs": [],
   "source": [
    "df = df['Product_Demand']"
   ]
  },
  {
   "cell_type": "code",
   "execution_count": 5,
   "metadata": {},
   "outputs": [
    {
     "data": {
      "text/plain": [
       "0      40\n",
       "1      13\n",
       "2      30\n",
       "3      16\n",
       "4       2\n",
       "       ..\n",
       "414     1\n",
       "415     3\n",
       "416     1\n",
       "417    30\n",
       "418     2\n",
       "Name: Product_Demand, Length: 419, dtype: int64"
      ]
     },
     "execution_count": 5,
     "metadata": {},
     "output_type": "execute_result"
    }
   ],
   "source": [
    "df"
   ]
  },
  {
   "cell_type": "code",
   "execution_count": 6,
   "metadata": {
    "colab": {},
    "colab_type": "code",
    "id": "1PBtAnxRb0E0"
   },
   "outputs": [],
   "source": [
    "# preparing independent and dependent features\n",
    "def prepare_data(timeseries_data, n_features):\n",
    "\tX, y =[],[]\n",
    "\tfor i in range(len(timeseries_data)):\n",
    "\t\t# find the end of this pattern\n",
    "\t\tend_ix = i + n_features\n",
    "\t\t# check if we are beyond the sequence\n",
    "\t\tif end_ix > len(timeseries_data)-1:\n",
    "\t\t\tbreak\n",
    "\t\t# gather input and output parts of the pattern\n",
    "\t\tseq_x, seq_y = timeseries_data[i:end_ix], timeseries_data[end_ix]\n",
    "\t\tX.append(seq_x)\n",
    "\t\ty.append(seq_y)\n",
    "\treturn np.array(X), np.array(y)"
   ]
  },
  {
   "cell_type": "code",
   "execution_count": 7,
   "metadata": {
    "colab": {},
    "colab_type": "code",
    "id": "zhEPP7ZRb0E7"
   },
   "outputs": [],
   "source": [
    "# define input sequence\n",
    "timeseries_data = df.to_numpy()\n",
    "# choose a number of time steps\n",
    "n_steps = 100\n",
    "# split into samples\n",
    "X, y = prepare_data(timeseries_data, n_steps)"
   ]
  },
  {
   "cell_type": "code",
   "execution_count": 8,
   "metadata": {
    "colab": {
     "base_uri": "https://localhost:8080/",
     "height": 1000
    },
    "colab_type": "code",
    "id": "OK5Ns1obb0FA",
    "outputId": "138a8a87-5e16-4e3d-c1ac-1c7f2b777e6b"
   },
   "outputs": [
    {
     "name": "stdout",
     "output_type": "stream",
     "text": [
      "[[40 13 30 ... 10  1  5]\n",
      " [13 30 16 ...  1  5  2]\n",
      " [30 16  2 ...  5  2  4]\n",
      " ...\n",
      " [ 5  3 20 ...  5  1  3]\n",
      " [ 3 20  1 ...  1  3  1]\n",
      " [20  1 24 ...  3  1 30]]\n",
      "[  2   4   1   3   3   1   5   1   2   1   1   8   1   1   3   6   1   4\n",
      "   1   2   1  50   2   5   2  50   1   4  11   8   3   2   1   9   2   2\n",
      "   1  11   3   2   2   2   1   1   5   2   4   4   2   2   4   2   1   6\n",
      "   4   2   1   1   2   1   8   5  50  50   2   2   2  10   1   1   1   1\n",
      "  41   2   1  30   7   5 120  43   1  19  10   2   1   5   1   2   2   1\n",
      "  10  50  11  12  30   2   3   1  50   1   1  10   2   1  10   1  35  30\n",
      "   2   8   4   4   2  50 110   2   3   2  10  10   8   1   1   1   1  10\n",
      "   1  30   5   4  10  30  22   2  50   1  10   1  10   1   3  10   2  10\n",
      "   6  50   1   1   6   4   1   4  10   2   3   2   1   1  30   1  50   2\n",
      "  10   2   2   1  50   2   2   5  31   1   2   2  12   1  10  50   1  10\n",
      "  40  40  30   5  60  10  50   1  10   2   2   4   2   4   1   1  16   1\n",
      "   1  10   1   2   5   1   2   1   4   1  20   6   1   6  10   2   4   1\n",
      "   5   3  20   1  24  30   2  30   2   1   2  20  96   9  20   4   2   1\n",
      "   2   1  20  62   3  20  50   3   2   1  20   1  10   2   4   3   3   2\n",
      "  20   1  17  10   2  21  20  56  50  36  30  72  60  16  11  50  38   8\n",
      "   2   2  30  54   2   3  20   3   5  10  10  16   2  10  30   1   1   1\n",
      "  19 100  16   1  10   2  30  30   3   1  10   6  17  10   3   1   3  40\n",
      "   1   3   2  40   2  50  60   5   1   3   1  30   2]\n"
     ]
    },
    {
     "data": {
      "text/plain": [
       "(None, None)"
      ]
     },
     "execution_count": 8,
     "metadata": {},
     "output_type": "execute_result"
    }
   ],
   "source": [
    "print(X),print(y)"
   ]
  },
  {
   "cell_type": "code",
   "execution_count": 9,
   "metadata": {
    "colab": {
     "base_uri": "https://localhost:8080/",
     "height": 34
    },
    "colab_type": "code",
    "id": "XWh-UGGyb0FH",
    "outputId": "65bb3f19-9800-4b06-d85d-bc78bf22ba28"
   },
   "outputs": [
    {
     "data": {
      "text/plain": [
       "(319, 100)"
      ]
     },
     "execution_count": 9,
     "metadata": {},
     "output_type": "execute_result"
    }
   ],
   "source": [
    "X.shape"
   ]
  },
  {
   "cell_type": "code",
   "execution_count": 10,
   "metadata": {
    "colab": {},
    "colab_type": "code",
    "id": "FtRj9KDgb0FL"
   },
   "outputs": [],
   "source": [
    "# choose a number of time steps\n",
    "n_steps = 100\n",
    "# reshape from [samples, timesteps] into [samples, timesteps, rows, columns, features]\n",
    "n_features = 1\n",
    "n_seq = 1\n",
    "n_steps = 100\n",
    "X = X.reshape((X.shape[0], n_seq, 1, n_steps, n_features))"
   ]
  },
  {
   "cell_type": "code",
   "execution_count": 11,
   "metadata": {
    "colab": {},
    "colab_type": "code",
    "id": "bBsd_Riob0FP"
   },
   "outputs": [],
   "source": [
    "# define model\n",
    "model = Sequential()\n",
    "model.add(ConvLSTM2D(filters=64, kernel_size=(1,3), activation='relu', input_shape=(n_seq, 1, n_steps, n_features)))\n",
    "model.add(Flatten())\n",
    "model.add(Dense(1, activation='relu'))\n",
    "adam = optimizers.Adam(lr=0.001)\n",
    "model.compile(optimizer=adam, loss='mse')"
   ]
  },
  {
   "cell_type": "code",
   "execution_count": 12,
   "metadata": {},
   "outputs": [
    {
     "name": "stdout",
     "output_type": "stream",
     "text": [
      "Train on 319 samples\n",
      "Epoch 1/150\n",
      "319/319 [==============================] - 3s 8ms/sample - loss: 434.0301\n",
      "Epoch 2/150\n",
      "319/319 [==============================] - 0s 1ms/sample - loss: 341.8168\n",
      "Epoch 3/150\n",
      "319/319 [==============================] - 0s 1ms/sample - loss: 340.2819\n",
      "Epoch 4/150\n",
      "319/319 [==============================] - 0s 1ms/sample - loss: 326.4237\n",
      "Epoch 5/150\n",
      "319/319 [==============================] - 0s 1ms/sample - loss: 314.8747\n",
      "Epoch 6/150\n",
      "319/319 [==============================] - 0s 1ms/sample - loss: 301.5626\n",
      "Epoch 7/150\n",
      "319/319 [==============================] - 0s 1ms/sample - loss: 290.8851\n",
      "Epoch 8/150\n",
      "319/319 [==============================] - 0s 1ms/sample - loss: 274.0552\n",
      "Epoch 9/150\n",
      "319/319 [==============================] - 0s 1ms/sample - loss: 262.6925\n",
      "Epoch 10/150\n",
      "319/319 [==============================] - 0s 1ms/sample - loss: 248.0037\n",
      "Epoch 11/150\n",
      "319/319 [==============================] - 0s 1ms/sample - loss: 234.0010\n",
      "Epoch 12/150\n",
      "319/319 [==============================] - 0s 1ms/sample - loss: 221.8451\n",
      "Epoch 13/150\n",
      "319/319 [==============================] - 0s 1ms/sample - loss: 209.6267\n",
      "Epoch 14/150\n",
      "319/319 [==============================] - 0s 1ms/sample - loss: 197.6772\n",
      "Epoch 15/150\n",
      "319/319 [==============================] - 0s 1ms/sample - loss: 187.0801\n",
      "Epoch 16/150\n",
      "319/319 [==============================] - 0s 1ms/sample - loss: 177.8609\n",
      "Epoch 17/150\n",
      "319/319 [==============================] - 0s 1ms/sample - loss: 167.2190\n",
      "Epoch 18/150\n",
      "319/319 [==============================] - 0s 1ms/sample - loss: 150.9708\n",
      "Epoch 19/150\n",
      "319/319 [==============================] - 0s 1ms/sample - loss: 140.4746\n",
      "Epoch 20/150\n",
      "319/319 [==============================] - 0s 1ms/sample - loss: 128.9150\n",
      "Epoch 21/150\n",
      "319/319 [==============================] - 0s 1ms/sample - loss: 118.3867\n",
      "Epoch 22/150\n",
      "319/319 [==============================] - 0s 1ms/sample - loss: 108.3881\n",
      "Epoch 23/150\n",
      "319/319 [==============================] - 0s 1ms/sample - loss: 100.3612\n",
      "Epoch 24/150\n",
      "319/319 [==============================] - 0s 1ms/sample - loss: 92.8194\n",
      "Epoch 25/150\n",
      "319/319 [==============================] - 0s 1ms/sample - loss: 84.8785\n",
      "Epoch 26/150\n",
      "319/319 [==============================] - 0s 1ms/sample - loss: 76.9784\n",
      "Epoch 27/150\n",
      "319/319 [==============================] - 0s 1ms/sample - loss: 72.1970\n",
      "Epoch 28/150\n",
      "319/319 [==============================] - 0s 1ms/sample - loss: 63.4187\n",
      "Epoch 29/150\n",
      "319/319 [==============================] - 0s 1ms/sample - loss: 58.4124\n",
      "Epoch 30/150\n",
      "319/319 [==============================] - 0s 1ms/sample - loss: 49.1103\n",
      "Epoch 31/150\n",
      "319/319 [==============================] - 0s 1ms/sample - loss: 45.7554\n",
      "Epoch 32/150\n",
      "319/319 [==============================] - 0s 1ms/sample - loss: 39.6473\n",
      "Epoch 33/150\n",
      "319/319 [==============================] - 0s 1ms/sample - loss: 34.5823\n",
      "Epoch 34/150\n",
      "319/319 [==============================] - 0s 1ms/sample - loss: 31.2574\n",
      "Epoch 35/150\n",
      "319/319 [==============================] - 0s 1ms/sample - loss: 28.8293\n",
      "Epoch 36/150\n",
      "319/319 [==============================] - 0s 1ms/sample - loss: 25.8886\n",
      "Epoch 37/150\n",
      "319/319 [==============================] - 0s 1ms/sample - loss: 22.2635\n",
      "Epoch 38/150\n",
      "319/319 [==============================] - 0s 1ms/sample - loss: 20.3429\n",
      "Epoch 39/150\n",
      "319/319 [==============================] - 0s 1ms/sample - loss: 17.6381\n",
      "Epoch 40/150\n",
      "319/319 [==============================] - 0s 1ms/sample - loss: 15.9465\n",
      "Epoch 41/150\n",
      "319/319 [==============================] - 0s 1ms/sample - loss: 14.6784\n",
      "Epoch 42/150\n",
      "319/319 [==============================] - 0s 1ms/sample - loss: 12.9687\n",
      "Epoch 43/150\n",
      "319/319 [==============================] - 0s 1ms/sample - loss: 12.0210\n",
      "Epoch 44/150\n",
      "319/319 [==============================] - 0s 1ms/sample - loss: 11.2661\n",
      "Epoch 45/150\n",
      "319/319 [==============================] - 0s 1ms/sample - loss: 10.2826\n",
      "Epoch 46/150\n",
      "319/319 [==============================] - 0s 1ms/sample - loss: 9.6101\n",
      "Epoch 47/150\n",
      "319/319 [==============================] - 0s 1ms/sample - loss: 9.1625\n",
      "Epoch 48/150\n",
      "319/319 [==============================] - 0s 1ms/sample - loss: 8.3816\n",
      "Epoch 49/150\n",
      "319/319 [==============================] - 0s 1ms/sample - loss: 7.8783\n",
      "Epoch 50/150\n",
      "319/319 [==============================] - 0s 1ms/sample - loss: 7.5690\n",
      "Epoch 51/150\n",
      "319/319 [==============================] - 0s 1ms/sample - loss: 7.3609\n",
      "Epoch 52/150\n",
      "319/319 [==============================] - 0s 1ms/sample - loss: 6.8352\n",
      "Epoch 53/150\n",
      "319/319 [==============================] - 0s 1ms/sample - loss: 6.4416\n",
      "Epoch 54/150\n",
      "319/319 [==============================] - 0s 1ms/sample - loss: 6.2238\n",
      "Epoch 55/150\n",
      "319/319 [==============================] - 0s 1ms/sample - loss: 5.9899\n",
      "Epoch 56/150\n",
      "319/319 [==============================] - 0s 1ms/sample - loss: 5.9549\n",
      "Epoch 57/150\n",
      "319/319 [==============================] - 0s 1ms/sample - loss: 5.7926\n",
      "Epoch 58/150\n",
      "319/319 [==============================] - 0s 1ms/sample - loss: 5.6608\n",
      "Epoch 59/150\n",
      "319/319 [==============================] - 0s 1ms/sample - loss: 5.5443\n",
      "Epoch 60/150\n",
      "319/319 [==============================] - 0s 1ms/sample - loss: 5.4861\n",
      "Epoch 61/150\n",
      "319/319 [==============================] - 0s 1ms/sample - loss: 5.4022\n",
      "Epoch 62/150\n",
      "319/319 [==============================] - 0s 1ms/sample - loss: 5.3596\n",
      "Epoch 63/150\n",
      "319/319 [==============================] - 0s 1ms/sample - loss: 5.3258\n",
      "Epoch 64/150\n",
      "319/319 [==============================] - 0s 1ms/sample - loss: 5.2830\n",
      "Epoch 65/150\n",
      "319/319 [==============================] - 0s 1ms/sample - loss: 5.2436\n",
      "Epoch 66/150\n",
      "319/319 [==============================] - 0s 1ms/sample - loss: 5.2231\n",
      "Epoch 67/150\n",
      "319/319 [==============================] - 0s 1ms/sample - loss: 5.2078\n",
      "Epoch 68/150\n",
      "319/319 [==============================] - 0s 1ms/sample - loss: 5.1912\n",
      "Epoch 69/150\n",
      "319/319 [==============================] - 0s 1ms/sample - loss: 5.1778\n",
      "Epoch 70/150\n",
      "319/319 [==============================] - 0s 1ms/sample - loss: 5.1666\n",
      "Epoch 71/150\n",
      "319/319 [==============================] - 0s 1ms/sample - loss: 5.1626\n",
      "Epoch 72/150\n",
      "319/319 [==============================] - 0s 1ms/sample - loss: 5.1539\n",
      "Epoch 73/150\n",
      "319/319 [==============================] - 0s 1ms/sample - loss: 5.1512\n",
      "Epoch 74/150\n",
      "319/319 [==============================] - 0s 1ms/sample - loss: 5.1476\n",
      "Epoch 75/150\n",
      "319/319 [==============================] - 0s 1ms/sample - loss: 5.1420\n",
      "Epoch 76/150\n",
      "319/319 [==============================] - 0s 2ms/sample - loss: 5.1393\n",
      "Epoch 77/150\n",
      "319/319 [==============================] - 0s 1ms/sample - loss: 5.1367\n",
      "Epoch 78/150\n",
      "319/319 [==============================] - 0s 1ms/sample - loss: 5.1347\n",
      "Epoch 79/150\n",
      "319/319 [==============================] - 0s 1ms/sample - loss: 5.1337\n",
      "Epoch 80/150\n",
      "319/319 [==============================] - 0s 1ms/sample - loss: 5.1324\n",
      "Epoch 81/150\n",
      "319/319 [==============================] - 0s 1ms/sample - loss: 5.1319\n",
      "Epoch 82/150\n",
      "319/319 [==============================] - 0s 1ms/sample - loss: 5.1314\n",
      "Epoch 83/150\n",
      "319/319 [==============================] - 0s 1ms/sample - loss: 5.1317\n",
      "Epoch 84/150\n",
      "319/319 [==============================] - 0s 1ms/sample - loss: 5.1318\n",
      "Epoch 85/150\n",
      "319/319 [==============================] - 0s 1ms/sample - loss: 5.1311\n",
      "Epoch 86/150\n",
      "319/319 [==============================] - 0s 1ms/sample - loss: 5.1307\n",
      "Epoch 87/150\n",
      "319/319 [==============================] - 0s 1ms/sample - loss: 5.1302\n",
      "Epoch 88/150\n",
      "319/319 [==============================] - 0s 1ms/sample - loss: 5.1298\n",
      "Epoch 89/150\n",
      "319/319 [==============================] - 0s 2ms/sample - loss: 5.1296\n",
      "Epoch 90/150\n",
      "319/319 [==============================] - 0s 1ms/sample - loss: 5.1293\n",
      "Epoch 91/150\n",
      "319/319 [==============================] - 0s 2ms/sample - loss: 5.1291\n",
      "Epoch 92/150\n",
      "319/319 [==============================] - 0s 1ms/sample - loss: 5.1288\n",
      "Epoch 93/150\n",
      "319/319 [==============================] - 0s 1ms/sample - loss: 5.1287\n",
      "Epoch 94/150\n",
      "319/319 [==============================] - 0s 1ms/sample - loss: 5.1287\n",
      "Epoch 95/150\n",
      "319/319 [==============================] - 0s 1ms/sample - loss: 5.1287\n",
      "Epoch 96/150\n",
      "319/319 [==============================] - 0s 1ms/sample - loss: 5.1286\n",
      "Epoch 97/150\n",
      "319/319 [==============================] - 0s 1ms/sample - loss: 5.1286\n",
      "Epoch 98/150\n",
      "319/319 [==============================] - 0s 1ms/sample - loss: 5.1286\n",
      "Epoch 99/150\n",
      "319/319 [==============================] - 0s 1ms/sample - loss: 5.1286\n",
      "Epoch 100/150\n",
      "319/319 [==============================] - 0s 1ms/sample - loss: 5.1286\n",
      "Epoch 101/150\n",
      "319/319 [==============================] - 0s 1ms/sample - loss: 5.1285\n",
      "Epoch 102/150\n",
      "319/319 [==============================] - 0s 1ms/sample - loss: 5.1285\n",
      "Epoch 103/150\n",
      "319/319 [==============================] - 0s 1ms/sample - loss: 5.1285\n",
      "Epoch 104/150\n",
      "319/319 [==============================] - 0s 1ms/sample - loss: 5.1285 0s - loss: 6.2\n",
      "Epoch 105/150\n",
      "319/319 [==============================] - 0s 1ms/sample - loss: 5.1285\n",
      "Epoch 106/150\n",
      "319/319 [==============================] - 0s 1ms/sample - loss: 5.1285\n",
      "Epoch 107/150\n",
      "319/319 [==============================] - 0s 1ms/sample - loss: 5.1285\n",
      "Epoch 108/150\n",
      "319/319 [==============================] - 0s 1ms/sample - loss: 5.1285\n",
      "Epoch 109/150\n",
      "319/319 [==============================] - 0s 1ms/sample - loss: 5.1285\n",
      "Epoch 110/150\n",
      "319/319 [==============================] - 0s 1ms/sample - loss: 5.1285\n",
      "Epoch 111/150\n",
      "319/319 [==============================] - 0s 1ms/sample - loss: 5.1285\n",
      "Epoch 112/150\n",
      "319/319 [==============================] - 0s 1ms/sample - loss: 5.1285\n",
      "Epoch 113/150\n",
      "319/319 [==============================] - 0s 1ms/sample - loss: 5.1285\n",
      "Epoch 114/150\n",
      "319/319 [==============================] - 0s 1ms/sample - loss: 5.1285\n",
      "Epoch 115/150\n",
      "319/319 [==============================] - 0s 1ms/sample - loss: 5.1285\n",
      "Epoch 116/150\n",
      "319/319 [==============================] - 0s 1ms/sample - loss: 5.1285\n",
      "Epoch 117/150\n",
      "319/319 [==============================] - 0s 1ms/sample - loss: 5.1285\n",
      "Epoch 118/150\n",
      "319/319 [==============================] - 0s 1ms/sample - loss: 5.1285\n",
      "Epoch 119/150\n",
      "319/319 [==============================] - 0s 1ms/sample - loss: 5.1285\n",
      "Epoch 120/150\n",
      "319/319 [==============================] - 0s 1ms/sample - loss: 5.1285\n",
      "Epoch 121/150\n",
      "319/319 [==============================] - 0s 2ms/sample - loss: 5.1285\n",
      "Epoch 122/150\n",
      "319/319 [==============================] - 0s 1ms/sample - loss: 5.1285\n",
      "Epoch 123/150\n",
      "319/319 [==============================] - 0s 1ms/sample - loss: 5.1285\n",
      "Epoch 124/150\n",
      "319/319 [==============================] - 0s 1ms/sample - loss: 5.1285\n",
      "Epoch 125/150\n",
      "319/319 [==============================] - 0s 1ms/sample - loss: 5.1285\n",
      "Epoch 126/150\n",
      "319/319 [==============================] - 0s 1ms/sample - loss: 5.1285\n",
      "Epoch 127/150\n",
      "319/319 [==============================] - 0s 1ms/sample - loss: 5.1285\n",
      "Epoch 128/150\n",
      "319/319 [==============================] - 0s 1ms/sample - loss: 5.1285\n",
      "Epoch 129/150\n",
      "319/319 [==============================] - 0s 1ms/sample - loss: 5.1285\n",
      "Epoch 130/150\n",
      "319/319 [==============================] - 0s 1ms/sample - loss: 5.1285\n",
      "Epoch 131/150\n",
      "319/319 [==============================] - 0s 1ms/sample - loss: 5.1285\n",
      "Epoch 132/150\n",
      "319/319 [==============================] - 0s 1ms/sample - loss: 5.1285\n",
      "Epoch 133/150\n",
      "319/319 [==============================] - 0s 1ms/sample - loss: 5.1285\n",
      "Epoch 134/150\n",
      "319/319 [==============================] - 0s 1ms/sample - loss: 5.1285\n",
      "Epoch 135/150\n",
      "319/319 [==============================] - 0s 1ms/sample - loss: 5.1285\n",
      "Epoch 136/150\n",
      "319/319 [==============================] - 0s 1ms/sample - loss: 5.1285\n",
      "Epoch 137/150\n",
      "319/319 [==============================] - 0s 1ms/sample - loss: 5.1285\n",
      "Epoch 138/150\n",
      "319/319 [==============================] - 0s 1ms/sample - loss: 5.1285\n",
      "Epoch 139/150\n",
      "319/319 [==============================] - 0s 1ms/sample - loss: 5.1285\n",
      "Epoch 140/150\n",
      "319/319 [==============================] - 0s 1ms/sample - loss: 5.1285\n",
      "Epoch 141/150\n",
      "319/319 [==============================] - 0s 1ms/sample - loss: 5.1285\n",
      "Epoch 142/150\n",
      "319/319 [==============================] - 0s 1ms/sample - loss: 5.1285\n",
      "Epoch 143/150\n",
      "319/319 [==============================] - 0s 1ms/sample - loss: 5.1285\n",
      "Epoch 144/150\n",
      "319/319 [==============================] - 0s 1ms/sample - loss: 5.1285\n",
      "Epoch 145/150\n",
      "319/319 [==============================] - 0s 1ms/sample - loss: 5.1285\n",
      "Epoch 146/150\n",
      "319/319 [==============================] - 0s 1ms/sample - loss: 5.1285\n",
      "Epoch 147/150\n",
      "319/319 [==============================] - 0s 1ms/sample - loss: 5.1285\n",
      "Epoch 148/150\n",
      "319/319 [==============================] - 0s 1ms/sample - loss: 5.1285\n",
      "Epoch 149/150\n",
      "319/319 [==============================] - 0s 1ms/sample - loss: 5.1285\n",
      "Epoch 150/150\n",
      "319/319 [==============================] - 0s 1ms/sample - loss: 5.1285\n"
     ]
    },
    {
     "data": {
      "text/plain": [
       "<tensorflow.python.keras.callbacks.History at 0x1fe87eded48>"
      ]
     },
     "execution_count": 12,
     "metadata": {},
     "output_type": "execute_result"
    }
   ],
   "source": [
    "# fit model\n",
    "model.fit(X, y, epochs=150, verbose=1)"
   ]
  },
  {
   "cell_type": "code",
   "execution_count": 13,
   "metadata": {},
   "outputs": [],
   "source": [
    "model.save(\"model0338.h5\")"
   ]
  },
  {
   "cell_type": "code",
   "execution_count": 14,
   "metadata": {
    "colab": {},
    "colab_type": "code",
    "id": "qtTN9yB-fLza"
   },
   "outputs": [
    {
     "data": {
      "text/plain": [
       "(1, 100)"
      ]
     },
     "execution_count": 14,
     "metadata": {},
     "output_type": "execute_result"
    }
   ],
   "source": [
    "timeseries_data = timeseries_data.astype(float)\n",
    "x_input=timeseries_data[-100:].reshape(1,-1)\n",
    "x_input.shape"
   ]
  },
  {
   "cell_type": "code",
   "execution_count": 15,
   "metadata": {
    "colab": {},
    "colab_type": "code",
    "id": "2JjFxig9b0FS"
   },
   "outputs": [],
   "source": [
    "temp_input=list(x_input)\n",
    "temp_input=temp_input[0].tolist()"
   ]
  },
  {
   "cell_type": "code",
   "execution_count": 16,
   "metadata": {
    "colab": {
     "base_uri": "https://localhost:8080/",
     "height": 1000
    },
    "colab_type": "code",
    "id": "TLYOxxQhb0FV",
    "outputId": "60fdc19a-4bc2-4b47-df3c-f1f5b81705aa"
   },
   "outputs": [
    {
     "name": "stdout",
     "output_type": "stream",
     "text": [
      "[0.]\n",
      "1 day input [ 24.  30.   2.  30.   2.   1.   2.  20.  96.   9.  20.   4.   2.   1.\n",
      "   2.   1.  20.  62.   3.  20.  50.   3.   2.   1.  20.   1.  10.   2.\n",
      "   4.   3.   3.   2.  20.   1.  17.  10.   2.  21.  20.  56.  50.  36.\n",
      "  30.  72.  60.  16.  11.  50.  38.   8.   2.   2.  30.  54.   2.   3.\n",
      "  20.   3.   5.  10.  10.  16.   2.  10.  30.   1.   1.   1.  19. 100.\n",
      "  16.   1.  10.   2.  30.  30.   3.   1.  10.   6.  17.  10.   3.   1.\n",
      "   3.  40.   1.   3.   2.  40.   2.  50.  60.   5.   1.   3.   1.  30.\n",
      "   2.   0.]\n",
      "1 day output [[32.362595]]\n",
      "2 day input [ 30.          2.         30.          2.          1.          2.\n",
      "  20.         96.          9.         20.          4.          2.\n",
      "   1.          2.          1.         20.         62.          3.\n",
      "  20.         50.          3.          2.          1.         20.\n",
      "   1.         10.          2.          4.          3.          3.\n",
      "   2.         20.          1.         17.         10.          2.\n",
      "  21.         20.         56.         50.         36.         30.\n",
      "  72.         60.         16.         11.         50.         38.\n",
      "   8.          2.          2.         30.         54.          2.\n",
      "   3.         20.          3.          5.         10.         10.\n",
      "  16.          2.         10.         30.          1.          1.\n",
      "   1.         19.        100.         16.          1.         10.\n",
      "   2.         30.         30.          3.          1.         10.\n",
      "   6.         17.         10.          3.          1.          3.\n",
      "  40.          1.          3.          2.         40.          2.\n",
      "  50.         60.          5.          1.          3.          1.\n",
      "  30.          2.          0.         32.3625946]\n",
      "2 day output [[42.01922]]\n",
      "3 day input [  2.          30.           2.           1.           2.\n",
      "  20.          96.           9.          20.           4.\n",
      "   2.           1.           2.           1.          20.\n",
      "  62.           3.          20.          50.           3.\n",
      "   2.           1.          20.           1.          10.\n",
      "   2.           4.           3.           3.           2.\n",
      "  20.           1.          17.          10.           2.\n",
      "  21.          20.          56.          50.          36.\n",
      "  30.          72.          60.          16.          11.\n",
      "  50.          38.           8.           2.           2.\n",
      "  30.          54.           2.           3.          20.\n",
      "   3.           5.          10.          10.          16.\n",
      "   2.          10.          30.           1.           1.\n",
      "   1.          19.         100.          16.           1.\n",
      "  10.           2.          30.          30.           3.\n",
      "   1.          10.           6.          17.          10.\n",
      "   3.           1.           3.          40.           1.\n",
      "   3.           2.          40.           2.          50.\n",
      "  60.           5.           1.           3.           1.\n",
      "  30.           2.           0.          32.3625946   42.01921844]\n",
      "3 day output [[0.]]\n",
      "4 day input [ 30.           2.           1.           2.          20.\n",
      "  96.           9.          20.           4.           2.\n",
      "   1.           2.           1.          20.          62.\n",
      "   3.          20.          50.           3.           2.\n",
      "   1.          20.           1.          10.           2.\n",
      "   4.           3.           3.           2.          20.\n",
      "   1.          17.          10.           2.          21.\n",
      "  20.          56.          50.          36.          30.\n",
      "  72.          60.          16.          11.          50.\n",
      "  38.           8.           2.           2.          30.\n",
      "  54.           2.           3.          20.           3.\n",
      "   5.          10.          10.          16.           2.\n",
      "  10.          30.           1.           1.           1.\n",
      "  19.         100.          16.           1.          10.\n",
      "   2.          30.          30.           3.           1.\n",
      "  10.           6.          17.          10.           3.\n",
      "   1.           3.          40.           1.           3.\n",
      "   2.          40.           2.          50.          60.\n",
      "   5.           1.           3.           1.          30.\n",
      "   2.           0.          32.3625946   42.01921844   0.        ]\n",
      "4 day output [[0.]]\n",
      "5 day input [  2.           1.           2.          20.          96.\n",
      "   9.          20.           4.           2.           1.\n",
      "   2.           1.          20.          62.           3.\n",
      "  20.          50.           3.           2.           1.\n",
      "  20.           1.          10.           2.           4.\n",
      "   3.           3.           2.          20.           1.\n",
      "  17.          10.           2.          21.          20.\n",
      "  56.          50.          36.          30.          72.\n",
      "  60.          16.          11.          50.          38.\n",
      "   8.           2.           2.          30.          54.\n",
      "   2.           3.          20.           3.           5.\n",
      "  10.          10.          16.           2.          10.\n",
      "  30.           1.           1.           1.          19.\n",
      " 100.          16.           1.          10.           2.\n",
      "  30.          30.           3.           1.          10.\n",
      "   6.          17.          10.           3.           1.\n",
      "   3.          40.           1.           3.           2.\n",
      "  40.           2.          50.          60.           5.\n",
      "   1.           3.           1.          30.           2.\n",
      "   0.          32.3625946   42.01921844   0.           0.        ]\n",
      "5 day output [[3.9113214]]\n",
      "6 day input [  1.           2.          20.          96.           9.\n",
      "  20.           4.           2.           1.           2.\n",
      "   1.          20.          62.           3.          20.\n",
      "  50.           3.           2.           1.          20.\n",
      "   1.          10.           2.           4.           3.\n",
      "   3.           2.          20.           1.          17.\n",
      "  10.           2.          21.          20.          56.\n",
      "  50.          36.          30.          72.          60.\n",
      "  16.          11.          50.          38.           8.\n",
      "   2.           2.          30.          54.           2.\n",
      "   3.          20.           3.           5.          10.\n",
      "  10.          16.           2.          10.          30.\n",
      "   1.           1.           1.          19.         100.\n",
      "  16.           1.          10.           2.          30.\n",
      "  30.           3.           1.          10.           6.\n",
      "  17.          10.           3.           1.           3.\n",
      "  40.           1.           3.           2.          40.\n",
      "   2.          50.          60.           5.           1.\n",
      "   3.           1.          30.           2.           0.\n",
      "  32.3625946   42.01921844   0.           0.           3.9113214 ]\n",
      "6 day output [[23.21328]]\n",
      "7 day input [  2.          20.          96.           9.          20.\n",
      "   4.           2.           1.           2.           1.\n",
      "  20.          62.           3.          20.          50.\n",
      "   3.           2.           1.          20.           1.\n",
      "  10.           2.           4.           3.           3.\n",
      "   2.          20.           1.          17.          10.\n",
      "   2.          21.          20.          56.          50.\n",
      "  36.          30.          72.          60.          16.\n",
      "  11.          50.          38.           8.           2.\n",
      "   2.          30.          54.           2.           3.\n",
      "  20.           3.           5.          10.          10.\n",
      "  16.           2.          10.          30.           1.\n",
      "   1.           1.          19.         100.          16.\n",
      "   1.          10.           2.          30.          30.\n",
      "   3.           1.          10.           6.          17.\n",
      "  10.           3.           1.           3.          40.\n",
      "   1.           3.           2.          40.           2.\n",
      "  50.          60.           5.           1.           3.\n",
      "   1.          30.           2.           0.          32.3625946\n",
      "  42.01921844   0.           0.           3.9113214   23.21327972]\n",
      "7 day output [[0.]]\n",
      "8 day input [ 20.          96.           9.          20.           4.\n",
      "   2.           1.           2.           1.          20.\n",
      "  62.           3.          20.          50.           3.\n",
      "   2.           1.          20.           1.          10.\n",
      "   2.           4.           3.           3.           2.\n",
      "  20.           1.          17.          10.           2.\n",
      "  21.          20.          56.          50.          36.\n",
      "  30.          72.          60.          16.          11.\n",
      "  50.          38.           8.           2.           2.\n",
      "  30.          54.           2.           3.          20.\n",
      "   3.           5.          10.          10.          16.\n",
      "   2.          10.          30.           1.           1.\n",
      "   1.          19.         100.          16.           1.\n",
      "  10.           2.          30.          30.           3.\n",
      "   1.          10.           6.          17.          10.\n",
      "   3.           1.           3.          40.           1.\n",
      "   3.           2.          40.           2.          50.\n",
      "  60.           5.           1.           3.           1.\n",
      "  30.           2.           0.          32.3625946   42.01921844\n",
      "   0.           0.           3.9113214   23.21327972   0.        ]\n",
      "8 day output [[29.900665]]\n",
      "9 day input [ 96.           9.          20.           4.           2.\n",
      "   1.           2.           1.          20.          62.\n",
      "   3.          20.          50.           3.           2.\n",
      "   1.          20.           1.          10.           2.\n",
      "   4.           3.           3.           2.          20.\n",
      "   1.          17.          10.           2.          21.\n",
      "  20.          56.          50.          36.          30.\n",
      "  72.          60.          16.          11.          50.\n",
      "  38.           8.           2.           2.          30.\n",
      "  54.           2.           3.          20.           3.\n",
      "   5.          10.          10.          16.           2.\n",
      "  10.          30.           1.           1.           1.\n",
      "  19.         100.          16.           1.          10.\n",
      "   2.          30.          30.           3.           1.\n",
      "  10.           6.          17.          10.           3.\n",
      "   1.           3.          40.           1.           3.\n",
      "   2.          40.           2.          50.          60.\n",
      "   5.           1.           3.           1.          30.\n",
      "   2.           0.          32.3625946   42.01921844   0.\n",
      "   0.           3.9113214   23.21327972   0.          29.90066528]\n",
      "9 day output [[42.63124]]\n",
      "[0.0, 32.362595, 42.01922, 0.0, 0.0, 3.9113214, 23.21328, 0.0, 29.900665, 42.63124]\n"
     ]
    }
   ],
   "source": [
    "# demonstrate prediction for next 10 days\n",
    "#temp_input=list(x_input)\n",
    "lst_output=[]\n",
    "i=0\n",
    "while(i<10):\n",
    "    \n",
    "    if(len(temp_input)>100):\n",
    "        x_input=np.array(temp_input[1:])\n",
    "        print(\"{} day input {}\".format(i,x_input))\n",
    "        #print(x_input)\n",
    "        x_input = x_input.reshape((1, n_seq, 1, n_steps, n_features))\n",
    "        #print(x_input)\n",
    "        yhat = model.predict(x_input, verbose=0)\n",
    "        print(\"{} day output {}\".format(i,yhat))\n",
    "        temp_input.append(yhat[0][0])\n",
    "        temp_input=temp_input[1:]\n",
    "        #print(temp_input)\n",
    "        lst_output.append(yhat[0][0])\n",
    "        i=i+1\n",
    "    else:\n",
    "        x_input = x_input.reshape((1, n_seq, 1, n_steps, n_features))\n",
    "        yhat = model.predict(x_input, verbose=0)\n",
    "        print(yhat[0])\n",
    "        temp_input.append(yhat[0][0])\n",
    "        lst_output.append(yhat[0][0])\n",
    "        i=i+1\n",
    "    \n",
    "\n",
    "print(lst_output)"
   ]
  },
  {
   "cell_type": "code",
   "execution_count": 17,
   "metadata": {
    "colab": {},
    "colab_type": "code",
    "id": "bMSEbo6vb0FY"
   },
   "outputs": [],
   "source": [
    "list2 = [1 if i == 0 else i for i in lst_output]"
   ]
  },
  {
   "cell_type": "code",
   "execution_count": 18,
   "metadata": {
    "colab": {
     "base_uri": "https://localhost:8080/",
     "height": 34
    },
    "colab_type": "code",
    "id": "hdagMPAeb0Fb",
    "outputId": "f3eed435-cdae-4941-c687-21b4ab404a5b"
   },
   "outputs": [
    {
     "name": "stdout",
     "output_type": "stream",
     "text": [
      "[1, 32.362595, 42.01922, 1, 1, 3.9113214, 23.21328, 1, 29.900665, 42.63124]\n"
     ]
    }
   ],
   "source": [
    "print(list2)"
   ]
  },
  {
   "cell_type": "code",
   "execution_count": 19,
   "metadata": {
    "colab": {},
    "colab_type": "code",
    "id": "-kQYPNfKb0Fe"
   },
   "outputs": [
    {
     "data": {
      "text/plain": [
       "[<matplotlib.lines.Line2D at 0x1fe8e4b8748>]"
      ]
     },
     "execution_count": 19,
     "metadata": {},
     "output_type": "execute_result"
    },
    {
     "data": {
      "image/png": "[encoded data removed]",
      "text/plain": [
       "<Figure size 432x288 with 1 Axes>"
      ]
     },
     "metadata": {
      "needs_background": "light"
     },
     "output_type": "display_data"
    }
   ],
   "source": [
    "import matplotlib.pyplot as plt\n",
    "day_new=np.arange(1,10)\n",
    "day_pred=np.arange(10,20)\n",
    "plt.plot(day_new,timeseries_data[-9:])\n",
    "plt.plot(day_pred,list2)"
   ]
  },
  {
   "cell_type": "code",
   "execution_count": null,
   "metadata": {
    "colab": {
     "base_uri": "https://localhost:8080/",
     "height": 1000
    },
    "colab_type": "code",
    "id": "cHIouzERb0Fh",
    "outputId": "9ec63211-f2ce-4195-b89a-dabb95797325"
   },
   "outputs": [],
   "source": []
  },
  {
   "cell_type": "code",
   "execution_count": null,
   "metadata": {
    "colab": {},
    "colab_type": "code",
    "id": "IGxyoLrJb0Fk"
   },
   "outputs": [],
   "source": []
  },
  {
   "cell_type": "code",
   "execution_count": null,
   "metadata": {
    "colab": {},
    "colab_type": "code",
    "id": "KQxQ7SZZb0Fm"
   },
   "outputs": [],
   "source": []
  },
  {
   "cell_type": "code",
   "execution_count": null,
   "metadata": {
    "colab": {
     "base_uri": "https://localhost:8080/",
     "height": 1000
    },
    "colab_type": "code",
    "id": "nmZx83_Gb0Fp",
    "outputId": "869536ef-6a19-40dc-a13f-25e64bae67ce"
   },
   "outputs": [],
   "source": []
  },
  {
   "cell_type": "code",
   "execution_count": null,
   "metadata": {
    "colab": {},
    "colab_type": "code",
    "id": "kMXfT876b0Fs"
   },
   "outputs": [],
   "source": []
  },
  {
   "cell_type": "code",
   "execution_count": null,
   "metadata": {
    "colab": {
     "base_uri": "https://localhost:8080/",
     "height": 34
    },
    "colab_type": "code",
    "id": "wu4CO-4Gb0Fx",
    "outputId": "63e9d698-6e21-4d14-b515-94620ba3586f"
   },
   "outputs": [],
   "source": []
  },
  {
   "cell_type": "code",
   "execution_count": null,
   "metadata": {
    "colab": {},
    "colab_type": "code",
    "id": "76k2Pxrcb0F0"
   },
   "outputs": [],
   "source": []
  },
  {
   "cell_type": "code",
   "execution_count": null,
   "metadata": {
    "colab": {},
    "colab_type": "code",
    "id": "L4a46H4efGTq"
   },
   "outputs": [],
   "source": []
  },
  {
   "cell_type": "code",
   "execution_count": null,
   "metadata": {
    "colab": {
     "base_uri": "https://localhost:8080/",
     "height": 282
    },
    "colab_type": "code",
    "id": "cnWdh1csfI2O",
    "outputId": "df472085-1615-43fa-99ca-e41c8ecfec12"
   },
   "outputs": [],
   "source": []
  },
  {
   "cell_type": "code",
   "execution_count": null,
   "metadata": {
    "colab": {},
    "colab_type": "code",
    "id": "GHMHovgp_Hoy"
   },
   "outputs": [],
   "source": []
  }
 ],
 "metadata": {
  "accelerator": "GPU",
  "colab": {
   "name": "ibm_lstm_predict.ipynb",
   "provenance": []
  },
  "kernelspec": {
   "display_name": "Python 3",
   "language": "python",
   "name": "python3"
  },
  "language_info": {
   "codemirror_mode": {
    "name": "ipython",
    "version": 3
   },
   "file_extension": ".py",
   "mimetype": "text/x-python",
   "name": "python",
   "nbconvert_exporter": "python",
   "pygments_lexer": "ipython3",
   "version": "3.7.6"
  }
 },
 "nbformat": 4,
 "nbformat_minor": 1
}
